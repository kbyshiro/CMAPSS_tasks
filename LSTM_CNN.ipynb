{
  "nbformat": 4,
  "nbformat_minor": 0,
  "metadata": {
    "colab": {
      "name": "LSTM-CNN.ipynb",
      "provenance": [],
      "toc_visible": true,
      "mount_file_id": "1Kf-UYU69iJOFEA8G8q_KZlMUR4dh132D",
      "authorship_tag": "ABX9TyPCLC8Kom4yIJw6vcTuBErs",
      "include_colab_link": true
    },
    "kernelspec": {
      "name": "python3",
      "display_name": "Python 3"
    }
  },
  "cells": [
    {
      "cell_type": "markdown",
      "metadata": {
        "id": "view-in-github",
        "colab_type": "text"
      },
      "source": [
        "<a href=\"https://colab.research.google.com/github/kbyshiro/CMAPSS_tasks/blob/main/LSTM_CNN.ipynb\" target=\"_parent\"><img src=\"https://colab.research.google.com/assets/colab-badge.svg\" alt=\"Open In Colab\"/></a>"
      ]
    },
    {
      "cell_type": "markdown",
      "metadata": {
        "id": "IhyGysbmI0nS"
      },
      "source": [
        "## ライブラリのインポート\n",
        "シードの固定も"
      ]
    },
    {
      "cell_type": "code",
      "metadata": {
        "id": "DBvKsZLx2ILv",
        "outputId": "780a083b-4c8e-42da-d7a4-ae0259e5762a",
        "colab": {
          "base_uri": "https://localhost:8080/",
          "height": 55
        }
      },
      "source": [
        "import os\n",
        "import sys\n",
        "sys.path.append('/content/drive/My Drive/CMAPSSData/library')\n",
        "from fd_dataset import FD_Dataset \n",
        "import numpy as np\n",
        "import pandas as pd\n",
        "import matplotlib.pyplot as plt\n",
        "import seaborn as sns\n",
        "import torch\n",
        "import torch.nn as nn\n",
        "import torch.nn.functional as F\n",
        "import torch.optim as optim\n",
        "%matplotlib inline\n",
        "sns.set()\n",
        "# Setting seed for reproducability\n",
        "np.random.seed(1234)  \n",
        "PYTHONHASHSEED = 0"
      ],
      "execution_count": 17,
      "outputs": [
        {
          "output_type": "stream",
          "text": [
            "['', '/env/python', '/usr/lib/python36.zip', '/usr/lib/python3.6', '/usr/lib/python3.6/lib-dynload', '/usr/local/lib/python3.6/dist-packages', '/usr/lib/python3/dist-packages', '/usr/local/lib/python3.6/dist-packages/IPython/extensions', '/root/.ipython', '/content/drive/My Drive/CMAPSSData', '/content/drive/My Drive/CMAPSSData', '/content/drive/My Drive/CMAPSSData', '/content/drive/My Drive/CMAPSSData', '/content/drive/My Drive/CMAPSSData', '/content/drive/My Drive/CMAPSSData', '/content/drive/My Drive/CMAPSSData/library', '/content/drive/My Drive/CMAPSSData/library']\n"
          ],
          "name": "stdout"
        }
      ]
    },
    {
      "cell_type": "markdown",
      "metadata": {
        "id": "1sZU_zmg-PZz"
      },
      "source": [
        "## データのロード&前処理"
      ]
    },
    {
      "cell_type": "code",
      "metadata": {
        "id": "jPN-0lEI99N7"
      },
      "source": [
        "fd = FD_Dataset()\n",
        "fd.load(data_id=1)\n",
        "fd.MinMaxNorm()"
      ],
      "execution_count": 15,
      "outputs": []
    },
    {
      "cell_type": "markdown",
      "metadata": {
        "id": "OnKLKdQTvaaN"
      },
      "source": [
        "RULに蓋をする(130で制限)"
      ]
    },
    {
      "cell_type": "code",
      "metadata": {
        "id": "FypOAamJvU9j"
      },
      "source": [
        "# RULに制限を設ける。\n",
        "RUL_limit = 130\n",
        "fd.LimitRUL(RUL_limit=RUL_limit)"
      ],
      "execution_count": 18,
      "outputs": []
    },
    {
      "cell_type": "markdown",
      "metadata": {
        "id": "d236e4RIvlhS"
      },
      "source": [
        "## データローダーの準備"
      ]
    },
    {
      "cell_type": "code",
      "metadata": {
        "id": "DvV1iFMrJaMn"
      },
      "source": [
        "#tuning parameters\n",
        "window_size = 30\n",
        "batch_size = 100\n",
        "cut_size = 10"
      ],
      "execution_count": 19,
      "outputs": []
    },
    {
      "cell_type": "code",
      "metadata": {
        "id": "wRdCsrrSv8dS"
      },
      "source": [
        "train = fd.SlideWindow(fd.train, window_size, cut_size)\n",
        "test = fd.SlideWindow(fd.test, window_size, cut_size)\n",
        "dataloader = torch.utils.data.DataLoader(train, batch_size= batch_size)"
      ],
      "execution_count": 20,
      "outputs": []
    },
    {
      "cell_type": "code",
      "metadata": {
        "id": "RXA0ChUSdycF",
        "outputId": "0a0312b7-6596-4739-b3d2-b7a0788498fb",
        "colab": {
          "base_uri": "https://localhost:8080/",
          "height": 35
        }
      },
      "source": [
        "train.X.size()"
      ],
      "execution_count": 22,
      "outputs": [
        {
          "output_type": "execute_result",
          "data": {
            "text/plain": [
              "torch.Size([17631, 10, 3, 14])"
            ]
          },
          "metadata": {
            "tags": []
          },
          "execution_count": 22
        }
      ]
    },
    {
      "cell_type": "markdown",
      "metadata": {
        "id": "GU9VH-uXIu2l"
      },
      "source": [
        "## 学習モデルの構築\n",
        "LSTM1(以後L1)とCNN層(以後C1）を並列で学習させ、\n",
        "それをLSTM2(L2）でそれぞれsumしたものを通し、最後に全結合層で出力する。"
      ]
    },
    {
      "cell_type": "code",
      "metadata": {
        "id": "LgnSPdExJRhK"
      },
      "source": [
        "#tuning parameters\n",
        "L1_input_size= train.X.shape[2]*train.X.shape[3]\n",
        "L1_hidden_size = 21\n",
        "\n",
        "conv_size = [3, 2]\n",
        "conv_stride = [2, 2]\n",
        "conv_out_size = 3\n",
        "maxpool_size = [1, 2]\n",
        "maxpool_stride = [1, 2]\n",
        "\n",
        "L2_input_size = L1_hidden_size\n",
        "L2_hidden_size = 10\n",
        "output_size = 1"
      ],
      "execution_count": 24,
      "outputs": []
    },
    {
      "cell_type": "code",
      "metadata": {
        "id": "TdNYwF4_IY_B"
      },
      "source": [
        "class DAG_CNN_LSTM_Regressor(nn.Module):\n",
        "  def __init__(self,L1_input_size, L1_hidden_size, conv_size, \n",
        "              conv_stride, maxpool_size, maxpool_stride, L2_input_size, L2_hidden_size, output_size):\n",
        "    super().__init__()\n",
        "    #L1\n",
        "    self.L1_input_size = L1_input_size\n",
        "    self.L1_hidden_size = L1_hidden_size\n",
        "    self.LSTM1 = nn.LSTM(self.L1_input_size, self.L1_hidden_size)\n",
        "\n",
        "    # CNN\n",
        "    self.conv_size = conv_size\n",
        "    self.conv_stride = conv_stride\n",
        "    self.conv_out_size = conv_out_size\n",
        "    self.maxpool_size = maxpool_size\n",
        "    self.maxpool_stride = maxpool_stride\n",
        "    self.CNN = nn.Sequential(nn.Conv2d(1, self.conv_out_size, kernel_size=self.conv_size,\n",
        "                                       stride=self.conv_stride, padding=[1, 1]), \n",
        "                              nn.MaxPool2d(self.maxpool_size, self.maxpool_stride), \n",
        "                              nn.Flatten())\n",
        "\n",
        "    #L2\n",
        "    self.L2_input_size = L2_input_size\n",
        "    self.L2_hidden_size = L2_hidden_size\n",
        "    self.LSTM2 = nn.LSTM(self.L2_input_size, self.L2_hidden_size)\n",
        "\n",
        "    # fully connected layer\n",
        "    self.output_size = output_size\n",
        "    self.Linear = nn.Linear(self.L2_hidden_size, self.output_size)\n",
        "  \n",
        "  def init_hidden(self, batch_size):\n",
        "        hidden_state1 = torch.zeros(1, batch_size, self.L1_hidden_size)\n",
        "        cell_state1 = torch.zeros(1, batch_size, self.L1_hidden_size)\n",
        "        self.hidden1 = (hidden_state1, cell_state1)\n",
        "        hidden_state2 = torch.zeros(1, batch_size, self.L2_hidden_size)\n",
        "        cell_state2 = torch.zeros(1, batch_size, self.L2_hidden_size)\n",
        "        self.hidden2 = (hidden_state2, cell_state2)\n",
        "\n",
        "\n",
        "  def forward(self, x):\n",
        "    batch_size, seq_size, width, n_features = x.size()\n",
        "\n",
        "    #LSTM1\n",
        "    #input size = (seq_size, batch_size, width*n_features)\n",
        "    #output_size = (seq_size, batch_size, hidden_size)\n",
        "    out1, self.hidden1 = self.LSTM1(torch.transpose(x, 0, 1).reshape(seq_size, batch_size, -1), self.hidden1)\n",
        "    \n",
        "    #CNN\n",
        "    #input size = (seq_size, 1, n_features, width)\n",
        "    #output_size = (seq_size, batch_size, hidden_size)\n",
        "    out2 = torch.zeros((batch_size,seq_size, self.L1_hidden_size ))\n",
        "    for i in range(batch_size):\n",
        "      out2[i] = self.CNN(x[i].view(seq_size, 1, n_features, width))\n",
        "    # print(out2.size())\n",
        "    \n",
        "    # combine outputs\n",
        "    out = out1+ torch.transpose(out2, 0, 1)\n",
        "    #LSTM2\n",
        "    _, self.hidden2 = self.LSTM2(out, self.hidden2)\n",
        "    \n",
        "    #fully connecter\n",
        "    out = self.Linear(self.hidden2[0][0].view(batch_size, -1))\n",
        "    return out"
      ],
      "execution_count": 25,
      "outputs": []
    },
    {
      "cell_type": "markdown",
      "metadata": {
        "id": "c-YfsB8-IaH8"
      },
      "source": [
        "## 訓練開始！\n"
      ]
    },
    {
      "cell_type": "code",
      "metadata": {
        "id": "LEWNRX8O2K4a"
      },
      "source": [
        "# training epoches\n",
        "\n",
        "n_epoches = 100"
      ],
      "execution_count": 26,
      "outputs": []
    },
    {
      "cell_type": "code",
      "metadata": {
        "id": "5vTkw3eCIY2t",
        "outputId": "2b5c1a02-678e-4e4e-e316-d55e28a6205a",
        "colab": {
          "base_uri": "https://localhost:8080/",
          "height": 208
        }
      },
      "source": [
        "#training\n",
        "model = DAG_CNN_LSTM_Regressor(L1_input_size, L1_hidden_size, conv_size, \n",
        "                     conv_stride, maxpool_size, maxpool_stride, L2_input_size, L2_hidden_size, output_size)\n",
        "loss_fn = nn.MSELoss()\n",
        "optimizer = optim.Adam(model.parameters(), lr=.005)\n",
        "RMSE_his = []\n",
        "for epoch in range(n_epoches):\n",
        "    loss_all = []\n",
        "    for i, data in enumerate(dataloader):\n",
        "        x_batch, y_batch = data\n",
        "        optimizer.zero_grad()\n",
        "        model.init_hidden(len(x_batch))\n",
        "        #calc \n",
        "        y_pred = model(x_batch)\n",
        "        loss = loss_fn(y_pred.view(-1), y_batch)\n",
        "        loss_all.append(loss.item())\n",
        "        # update\n",
        "        loss.backward()\n",
        "        optimizer.step()\n",
        "    RMSE_his.append(np.sqrt(sum(loss_all)/len(loss_all)))\n",
        "    if epoch%10 == 9:\n",
        "        print('epoch: {0:3}: RMSE: {1:10.8f}'.format(epoch+1, RMSE_his[epoch]))\n",
        "print('Done!')"
      ],
      "execution_count": 27,
      "outputs": [
        {
          "output_type": "stream",
          "text": [
            "epoch:  10: RMSE: 46.58376583\n",
            "epoch:  20: RMSE: 43.46076942\n",
            "epoch:  30: RMSE: 43.45394766\n",
            "epoch:  40: RMSE: 23.75683506\n",
            "epoch:  50: RMSE: 21.97392612\n",
            "epoch:  60: RMSE: 20.76111311\n",
            "epoch:  70: RMSE: 20.47065114\n",
            "epoch:  80: RMSE: 20.32291444\n",
            "epoch:  90: RMSE: 20.20406616\n",
            "epoch: 100: RMSE: 20.09013439\n",
            "Done!\n"
          ],
          "name": "stdout"
        }
      ]
    },
    {
      "cell_type": "code",
      "metadata": {
        "id": "FM20OXwYIie9",
        "outputId": "b0bb5cd6-a6f5-42a2-ed12-cb251489b3ce",
        "colab": {
          "base_uri": "https://localhost:8080/",
          "height": 35
        }
      },
      "source": [
        "y_true = test.t\n",
        "with torch.no_grad():\n",
        "    model.init_hidden(test.X.size(0))\n",
        "    y_pred = model(test.X)\n",
        "    mseloss = loss_fn(y_pred.view(-1), y_true)\n",
        "print('RMSE: {}'.format(np.sqrt(mseloss)))"
      ],
      "execution_count": 28,
      "outputs": [
        {
          "output_type": "stream",
          "text": [
            "RMSE: 20.325462341308594\n"
          ],
          "name": "stdout"
        }
      ]
    },
    {
      "cell_type": "markdown",
      "metadata": {
        "id": "RNaH1TgWImsn"
      },
      "source": [
        "## 結果の表示"
      ]
    },
    {
      "cell_type": "code",
      "metadata": {
        "id": "SNr45SWY9L7r",
        "outputId": "d48dac44-7794-425d-856c-7a550088336f",
        "colab": {
          "base_uri": "https://localhost:8080/",
          "height": 359
        }
      },
      "source": [
        "f = plt.figure(figsize=(12, 5))\n",
        "plt.plot(RMSE_his, label='RMSE')\n",
        "plt.xlabel('epoch')\n",
        "plt.ylabel('RMSE')"
      ],
      "execution_count": 29,
      "outputs": [
        {
          "output_type": "execute_result",
          "data": {
            "text/plain": [
              "Text(0, 0.5, 'RMSE')"
            ]
          },
          "metadata": {
            "tags": []
          },
          "execution_count": 29
        },
        {
          "output_type": "display_data",
          "data": {
            "image/png": "[encoded data removed]",
            "text/plain": [
              "<Figure size 864x360 with 1 Axes>"
            ]
          },
          "metadata": {
            "tags": []
          }
        }
      ]
    },
    {
      "cell_type": "code",
      "metadata": {
        "id": "KTwLmEW1Il0A",
        "outputId": "25985d4e-eacc-4b3d-9bee-3db2db6ea0f6",
        "colab": {
          "base_uri": "https://localhost:8080/",
          "height": 339
        }
      },
      "source": [
        "f= plt.figure(figsize=(12, 5))\n",
        "plt.plot(y_true[:2000], label='true')\n",
        "plt.plot(y_pred[:2000], label='prediction')\n",
        "plt.ylabel('RUL')\n",
        "plt.legend()"
      ],
      "execution_count": 30,
      "outputs": [
        {
          "output_type": "execute_result",
          "data": {
            "text/plain": [
              "<matplotlib.legend.Legend at 0x7f9114520c18>"
            ]
          },
          "metadata": {
            "tags": []
          },
          "execution_count": 30
        },
        {
          "output_type": "display_data",
          "data": {
            "image/png": "[encoded data removed]",
            "text/plain": [
              "<Figure size 864x360 with 1 Axes>"
            ]
          },
          "metadata": {
            "tags": []
          }
        }
      ]
    },
    {
      "cell_type": "code",
      "metadata": {
        "id": "ejlz4cZCEtUa",
        "outputId": "96cbb880-a503-4873-f91a-c7238d2b683f",
        "colab": {
          "base_uri": "https://localhost:8080/",
          "height": 374
        }
      },
      "source": [
        "f= plt.figure(figsize=(12, 5))\n",
        "plt.hist(y_pred.view(-1)-y_true, range=(-60, 60), bins=12)\n",
        "plt.xlabel('Error=y_pred-y_true')\n",
        "plt.ylabel('Frequancy')\n",
        "plt.legend()"
      ],
      "execution_count": 31,
      "outputs": [
        {
          "output_type": "stream",
          "text": [
            "No handles with labels found to put in legend.\n"
          ],
          "name": "stderr"
        },
        {
          "output_type": "execute_result",
          "data": {
            "text/plain": [
              "<matplotlib.legend.Legend at 0x7f9113df1d30>"
            ]
          },
          "metadata": {
            "tags": []
          },
          "execution_count": 31
        },
        {
          "output_type": "display_data",
          "data": {
            "image/png": "[encoded data removed]",
            "text/plain": [
              "<Figure size 864x360 with 1 Axes>"
            ]
          },
          "metadata": {
            "tags": []
          }
        }
      ]
    }
  ]
}