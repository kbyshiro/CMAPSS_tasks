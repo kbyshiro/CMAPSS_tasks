{
  "nbformat": 4,
  "nbformat_minor": 0,
  "metadata": {
    "colab": {
      "name": "LSTM-CNN.ipynb",
      "provenance": [],
      "toc_visible": true,
      "mount_file_id": "1Kf-UYU69iJOFEA8G8q_KZlMUR4dh132D",
      "authorship_tag": "ABX9TyMFQHC49zSezvcKzaAKvsiU",
      "include_colab_link": true
    },
    "kernelspec": {
      "name": "python3",
      "display_name": "Python 3"
    }
  },
  "cells": [
    {
      "cell_type": "markdown",
      "metadata": {
        "id": "view-in-github",
        "colab_type": "text"
      },
      "source": [
        "<a href=\"https://colab.research.google.com/github/kbyshiro/CMAPSS_tasks/blob/main/LSTM_CNN.ipynb\" target=\"_parent\"><img src=\"https://colab.research.google.com/assets/colab-badge.svg\" alt=\"Open In Colab\"/></a>"
      ]
    },
    {
      "cell_type": "markdown",
      "metadata": {
        "id": "IhyGysbmI0nS"
      },
      "source": [
        "## データの前処理"
      ]
    },
    {
      "cell_type": "code",
      "metadata": {
        "id": "5nxXO50GrsFk",
        "outputId": "43e2377d-4055-4727-b8ca-94ce20fb2037",
        "colab": {
          "base_uri": "https://localhost:8080/",
          "height": 55
        }
      },
      "source": [
        "from google.colab import drive\n",
        "drive.mount('/content/drive')"
      ],
      "execution_count": 1,
      "outputs": [
        {
          "output_type": "stream",
          "text": [
            "Drive already mounted at /content/drive; to attempt to forcibly remount, call drive.mount(\"/content/drive\", force_remount=True).\n"
          ],
          "name": "stdout"
        }
      ]
    },
    {
      "cell_type": "code",
      "metadata": {
        "id": "dtGyQNI7sQcm",
        "outputId": "fb50de53-deef-4b11-e005-db711d140164",
        "colab": {
          "base_uri": "https://localhost:8080/",
          "height": 55
        }
      },
      "source": [
        "# load necessary packages and view available data\n",
        "import os\n",
        "import numpy as np\n",
        "import pandas as pd\n",
        "import matplotlib.pyplot as plt\n",
        "import seaborn as sns\n",
        "import keras\n",
        "from sklearn.preprocessing import MinMaxScaler\n",
        "import torch\n",
        "import torch.nn as nn\n",
        "import torch.nn.functional as F\n",
        "import torch.optim as optim\n",
        "%matplotlib inline\n",
        "sns.set()\n",
        "# print(os.listdir(\"../input/cmapass\"))\n",
        "# data_path = \"../input/cmapass\"\n",
        "print(os.listdir(\"/content/drive/My Drive/CMAPSSData\"))\n",
        "data_path = \"/content/drive/My Drive/CMAPSSData\"\n",
        "\n",
        "# Setting seed for reproducability\n",
        "np.random.seed(1234)  \n",
        "PYTHONHASHSEED = 0"
      ],
      "execution_count": 2,
      "outputs": [
        {
          "output_type": "stream",
          "text": [
            "['readme.txt', 'Damage Propagation Modeling.pdf', 'RUL_FD001.txt', 'RUL_FD004.txt', 'RUL_FD002.txt', 'test_FD004.txt', 'test_FD002.txt', 'train_FD001.txt', 'RUL_FD003.txt', 'test_FD001.txt', 'test_FD003.txt', 'train_FD004.txt', 'train_FD003.txt', 'train_FD002.txt']\n"
          ],
          "name": "stdout"
        }
      ]
    },
    {
      "cell_type": "code",
      "metadata": {
        "id": "WrQQhaV8sUe9",
        "outputId": "a31f8a8b-f35e-49f2-fbc6-739295fee39e",
        "colab": {
          "base_uri": "https://localhost:8080/",
          "height": 55
        }
      },
      "source": [
        "# the files did not contain headers. Here we create labels based on documentation\n",
        "target_var = ['Target_Remaining_Useful_Life']\n",
        "index_columns_names =  [\"UnitNumber\",\"Cycle\"]\n",
        "op_settings_columns = [\"Op_Setting_\"+str(i) for i in range(1,4)]\n",
        "sensor_columns =[\"Sensor_\"+str(i) for i in range(1,22)]\n",
        "column_names = index_columns_names + op_settings_columns + sensor_columns\n",
        "print(column_names)"
      ],
      "execution_count": 3,
      "outputs": [
        {
          "output_type": "stream",
          "text": [
            "['UnitNumber', 'Cycle', 'Op_Setting_1', 'Op_Setting_2', 'Op_Setting_3', 'Sensor_1', 'Sensor_2', 'Sensor_3', 'Sensor_4', 'Sensor_5', 'Sensor_6', 'Sensor_7', 'Sensor_8', 'Sensor_9', 'Sensor_10', 'Sensor_11', 'Sensor_12', 'Sensor_13', 'Sensor_14', 'Sensor_15', 'Sensor_16', 'Sensor_17', 'Sensor_18', 'Sensor_19', 'Sensor_20', 'Sensor_21']\n"
          ],
          "name": "stdout"
        }
      ]
    },
    {
      "cell_type": "code",
      "metadata": {
        "id": "2yCrkVjysZ0r",
        "outputId": "0fe67b4f-31c1-459e-ba00-67bd4a7a12cc",
        "colab": {
          "base_uri": "https://localhost:8080/",
          "height": 239
        }
      },
      "source": [
        "# load data\n",
        "train= pd.read_csv(os.path.join(data_path, 'train_FD001.txt'), sep=\" \", header=None)\n",
        "test = pd.read_csv(os.path.join(data_path, 'test_FD001.txt'), sep=\" \", header=None)\n",
        "rul_test = pd.read_csv(os.path.join(data_path, 'RUL_FD001.txt'),sep=\" \",  header=None)\n",
        "print(\"train shape: \", train.shape, \"test shape: \", test.shape)\n",
        "# drop pesky NULL columns\n",
        "train.drop(train.columns[[26, 27]], axis=1, inplace=True)\n",
        "test.drop(test.columns[[26, 27]], axis=1, inplace=True)\n",
        "# name columns\n",
        "train.columns = column_names\n",
        "test.columns = column_names\n",
        "# train[train['UnitNumber'] == 1].head(5)\n",
        "test[test['UnitNumber'] == 1].head(5)"
      ],
      "execution_count": 4,
      "outputs": [
        {
          "output_type": "stream",
          "text": [
            "train shape:  (20631, 28) test shape:  (13096, 28)\n"
          ],
          "name": "stdout"
        },
        {
          "output_type": "execute_result",
          "data": {
            "text/html": [
              "<div>\n",
              "<style scoped>\n",
              "    .dataframe tbody tr th:only-of-type {\n",
              "        vertical-align: middle;\n",
              "    }\n",
              "\n",
              "    .dataframe tbody tr th {\n",
              "        vertical-align: top;\n",
              "    }\n",
              "\n",
              "    .dataframe thead th {\n",
              "        text-align: right;\n",
              "    }\n",
              "</style>\n",
              "<table border=\"1\" class=\"dataframe\">\n",
              "  <thead>\n",
              "    <tr style=\"text-align: right;\">\n",
              "      <th></th>\n",
              "      <th>UnitNumber</th>\n",
              "      <th>Cycle</th>\n",
              "      <th>Op_Setting_1</th>\n",
              "      <th>Op_Setting_2</th>\n",
              "      <th>Op_Setting_3</th>\n",
              "      <th>Sensor_1</th>\n",
              "      <th>Sensor_2</th>\n",
              "      <th>Sensor_3</th>\n",
              "      <th>Sensor_4</th>\n",
              "      <th>Sensor_5</th>\n",
              "      <th>Sensor_6</th>\n",
              "      <th>Sensor_7</th>\n",
              "      <th>Sensor_8</th>\n",
              "      <th>Sensor_9</th>\n",
              "      <th>Sensor_10</th>\n",
              "      <th>Sensor_11</th>\n",
              "      <th>Sensor_12</th>\n",
              "      <th>Sensor_13</th>\n",
              "      <th>Sensor_14</th>\n",
              "      <th>Sensor_15</th>\n",
              "      <th>Sensor_16</th>\n",
              "      <th>Sensor_17</th>\n",
              "      <th>Sensor_18</th>\n",
              "      <th>Sensor_19</th>\n",
              "      <th>Sensor_20</th>\n",
              "      <th>Sensor_21</th>\n",
              "    </tr>\n",
              "  </thead>\n",
              "  <tbody>\n",
              "    <tr>\n",
              "      <th>0</th>\n",
              "      <td>1</td>\n",
              "      <td>1</td>\n",
              "      <td>0.0023</td>\n",
              "      <td>0.0003</td>\n",
              "      <td>100.0</td>\n",
              "      <td>518.67</td>\n",
              "      <td>643.02</td>\n",
              "      <td>1585.29</td>\n",
              "      <td>1398.21</td>\n",
              "      <td>14.62</td>\n",
              "      <td>21.61</td>\n",
              "      <td>553.90</td>\n",
              "      <td>2388.04</td>\n",
              "      <td>9050.17</td>\n",
              "      <td>1.3</td>\n",
              "      <td>47.20</td>\n",
              "      <td>521.72</td>\n",
              "      <td>2388.03</td>\n",
              "      <td>8125.55</td>\n",
              "      <td>8.4052</td>\n",
              "      <td>0.03</td>\n",
              "      <td>392</td>\n",
              "      <td>2388</td>\n",
              "      <td>100.0</td>\n",
              "      <td>38.86</td>\n",
              "      <td>23.3735</td>\n",
              "    </tr>\n",
              "    <tr>\n",
              "      <th>1</th>\n",
              "      <td>1</td>\n",
              "      <td>2</td>\n",
              "      <td>-0.0027</td>\n",
              "      <td>-0.0003</td>\n",
              "      <td>100.0</td>\n",
              "      <td>518.67</td>\n",
              "      <td>641.71</td>\n",
              "      <td>1588.45</td>\n",
              "      <td>1395.42</td>\n",
              "      <td>14.62</td>\n",
              "      <td>21.61</td>\n",
              "      <td>554.85</td>\n",
              "      <td>2388.01</td>\n",
              "      <td>9054.42</td>\n",
              "      <td>1.3</td>\n",
              "      <td>47.50</td>\n",
              "      <td>522.16</td>\n",
              "      <td>2388.06</td>\n",
              "      <td>8139.62</td>\n",
              "      <td>8.3803</td>\n",
              "      <td>0.03</td>\n",
              "      <td>393</td>\n",
              "      <td>2388</td>\n",
              "      <td>100.0</td>\n",
              "      <td>39.02</td>\n",
              "      <td>23.3916</td>\n",
              "    </tr>\n",
              "    <tr>\n",
              "      <th>2</th>\n",
              "      <td>1</td>\n",
              "      <td>3</td>\n",
              "      <td>0.0003</td>\n",
              "      <td>0.0001</td>\n",
              "      <td>100.0</td>\n",
              "      <td>518.67</td>\n",
              "      <td>642.46</td>\n",
              "      <td>1586.94</td>\n",
              "      <td>1401.34</td>\n",
              "      <td>14.62</td>\n",
              "      <td>21.61</td>\n",
              "      <td>554.11</td>\n",
              "      <td>2388.05</td>\n",
              "      <td>9056.96</td>\n",
              "      <td>1.3</td>\n",
              "      <td>47.50</td>\n",
              "      <td>521.97</td>\n",
              "      <td>2388.03</td>\n",
              "      <td>8130.10</td>\n",
              "      <td>8.4441</td>\n",
              "      <td>0.03</td>\n",
              "      <td>393</td>\n",
              "      <td>2388</td>\n",
              "      <td>100.0</td>\n",
              "      <td>39.08</td>\n",
              "      <td>23.4166</td>\n",
              "    </tr>\n",
              "    <tr>\n",
              "      <th>3</th>\n",
              "      <td>1</td>\n",
              "      <td>4</td>\n",
              "      <td>0.0042</td>\n",
              "      <td>0.0000</td>\n",
              "      <td>100.0</td>\n",
              "      <td>518.67</td>\n",
              "      <td>642.44</td>\n",
              "      <td>1584.12</td>\n",
              "      <td>1406.42</td>\n",
              "      <td>14.62</td>\n",
              "      <td>21.61</td>\n",
              "      <td>554.07</td>\n",
              "      <td>2388.03</td>\n",
              "      <td>9045.29</td>\n",
              "      <td>1.3</td>\n",
              "      <td>47.28</td>\n",
              "      <td>521.38</td>\n",
              "      <td>2388.05</td>\n",
              "      <td>8132.90</td>\n",
              "      <td>8.3917</td>\n",
              "      <td>0.03</td>\n",
              "      <td>391</td>\n",
              "      <td>2388</td>\n",
              "      <td>100.0</td>\n",
              "      <td>39.00</td>\n",
              "      <td>23.3737</td>\n",
              "    </tr>\n",
              "    <tr>\n",
              "      <th>4</th>\n",
              "      <td>1</td>\n",
              "      <td>5</td>\n",
              "      <td>0.0014</td>\n",
              "      <td>0.0000</td>\n",
              "      <td>100.0</td>\n",
              "      <td>518.67</td>\n",
              "      <td>642.51</td>\n",
              "      <td>1587.19</td>\n",
              "      <td>1401.92</td>\n",
              "      <td>14.62</td>\n",
              "      <td>21.61</td>\n",
              "      <td>554.16</td>\n",
              "      <td>2388.01</td>\n",
              "      <td>9044.55</td>\n",
              "      <td>1.3</td>\n",
              "      <td>47.31</td>\n",
              "      <td>522.15</td>\n",
              "      <td>2388.03</td>\n",
              "      <td>8129.54</td>\n",
              "      <td>8.4031</td>\n",
              "      <td>0.03</td>\n",
              "      <td>390</td>\n",
              "      <td>2388</td>\n",
              "      <td>100.0</td>\n",
              "      <td>38.99</td>\n",
              "      <td>23.4130</td>\n",
              "    </tr>\n",
              "  </tbody>\n",
              "</table>\n",
              "</div>"
            ],
            "text/plain": [
              "   UnitNumber  Cycle  Op_Setting_1  ...  Sensor_19  Sensor_20  Sensor_21\n",
              "0           1      1        0.0023  ...      100.0      38.86    23.3735\n",
              "1           1      2       -0.0027  ...      100.0      39.02    23.3916\n",
              "2           1      3        0.0003  ...      100.0      39.08    23.4166\n",
              "3           1      4        0.0042  ...      100.0      39.00    23.3737\n",
              "4           1      5        0.0014  ...      100.0      38.99    23.4130\n",
              "\n",
              "[5 rows x 26 columns]"
            ]
          },
          "metadata": {
            "tags": []
          },
          "execution_count": 4
        }
      ]
    },
    {
      "cell_type": "code",
      "metadata": {
        "id": "YZ-TPQHZu6cz",
        "outputId": "73997777-2004-465f-d086-2bb42ba975fc",
        "colab": {
          "base_uri": "https://localhost:8080/",
          "height": 222
        }
      },
      "source": [
        "# this section calculates Remaining Useful Life (RUL) in T-minus notation for the training data\n",
        "# find the last cycle per unit number\n",
        "def conv_cycle_to_RUL(data):\n",
        "    max_cycle = data.groupby('UnitNumber')['Cycle'].max().reset_index()\n",
        "    max_cycle.columns = ['UnitNumber', 'MaxOfCycle']\n",
        "    # merge the max cycle back into the original frame\n",
        "    data_merged = data.merge(max_cycle, left_on='UnitNumber', right_on='UnitNumber', how='inner')\n",
        "    # calculate RUL for each row\n",
        "    Target_Remaining_Useful_Life = data_merged[\"MaxOfCycle\"] - data_merged[\"Cycle\"]\n",
        "    data_with_target = data_merged[\"Target_Remaining_Useful_Life\"] = Target_Remaining_Useful_Life\n",
        "    # remove unnecessary column\n",
        "    data_with_target = data_merged.drop(\"MaxOfCycle\", axis=1)\n",
        "    return data_with_target\n",
        "train_with_target = conv_cycle_to_RUL(train)\n",
        "train_with_target[train_with_target['UnitNumber'] == 1].head(5)"
      ],
      "execution_count": 5,
      "outputs": [
        {
          "output_type": "execute_result",
          "data": {
            "text/html": [
              "<div>\n",
              "<style scoped>\n",
              "    .dataframe tbody tr th:only-of-type {\n",
              "        vertical-align: middle;\n",
              "    }\n",
              "\n",
              "    .dataframe tbody tr th {\n",
              "        vertical-align: top;\n",
              "    }\n",
              "\n",
              "    .dataframe thead th {\n",
              "        text-align: right;\n",
              "    }\n",
              "</style>\n",
              "<table border=\"1\" class=\"dataframe\">\n",
              "  <thead>\n",
              "    <tr style=\"text-align: right;\">\n",
              "      <th></th>\n",
              "      <th>UnitNumber</th>\n",
              "      <th>Cycle</th>\n",
              "      <th>Op_Setting_1</th>\n",
              "      <th>Op_Setting_2</th>\n",
              "      <th>Op_Setting_3</th>\n",
              "      <th>Sensor_1</th>\n",
              "      <th>Sensor_2</th>\n",
              "      <th>Sensor_3</th>\n",
              "      <th>Sensor_4</th>\n",
              "      <th>Sensor_5</th>\n",
              "      <th>Sensor_6</th>\n",
              "      <th>Sensor_7</th>\n",
              "      <th>Sensor_8</th>\n",
              "      <th>Sensor_9</th>\n",
              "      <th>Sensor_10</th>\n",
              "      <th>Sensor_11</th>\n",
              "      <th>Sensor_12</th>\n",
              "      <th>Sensor_13</th>\n",
              "      <th>Sensor_14</th>\n",
              "      <th>Sensor_15</th>\n",
              "      <th>Sensor_16</th>\n",
              "      <th>Sensor_17</th>\n",
              "      <th>Sensor_18</th>\n",
              "      <th>Sensor_19</th>\n",
              "      <th>Sensor_20</th>\n",
              "      <th>Sensor_21</th>\n",
              "      <th>Target_Remaining_Useful_Life</th>\n",
              "    </tr>\n",
              "  </thead>\n",
              "  <tbody>\n",
              "    <tr>\n",
              "      <th>0</th>\n",
              "      <td>1</td>\n",
              "      <td>1</td>\n",
              "      <td>-0.0007</td>\n",
              "      <td>-0.0004</td>\n",
              "      <td>100.0</td>\n",
              "      <td>518.67</td>\n",
              "      <td>641.82</td>\n",
              "      <td>1589.70</td>\n",
              "      <td>1400.60</td>\n",
              "      <td>14.62</td>\n",
              "      <td>21.61</td>\n",
              "      <td>554.36</td>\n",
              "      <td>2388.06</td>\n",
              "      <td>9046.19</td>\n",
              "      <td>1.3</td>\n",
              "      <td>47.47</td>\n",
              "      <td>521.66</td>\n",
              "      <td>2388.02</td>\n",
              "      <td>8138.62</td>\n",
              "      <td>8.4195</td>\n",
              "      <td>0.03</td>\n",
              "      <td>392</td>\n",
              "      <td>2388</td>\n",
              "      <td>100.0</td>\n",
              "      <td>39.06</td>\n",
              "      <td>23.4190</td>\n",
              "      <td>191</td>\n",
              "    </tr>\n",
              "    <tr>\n",
              "      <th>1</th>\n",
              "      <td>1</td>\n",
              "      <td>2</td>\n",
              "      <td>0.0019</td>\n",
              "      <td>-0.0003</td>\n",
              "      <td>100.0</td>\n",
              "      <td>518.67</td>\n",
              "      <td>642.15</td>\n",
              "      <td>1591.82</td>\n",
              "      <td>1403.14</td>\n",
              "      <td>14.62</td>\n",
              "      <td>21.61</td>\n",
              "      <td>553.75</td>\n",
              "      <td>2388.04</td>\n",
              "      <td>9044.07</td>\n",
              "      <td>1.3</td>\n",
              "      <td>47.49</td>\n",
              "      <td>522.28</td>\n",
              "      <td>2388.07</td>\n",
              "      <td>8131.49</td>\n",
              "      <td>8.4318</td>\n",
              "      <td>0.03</td>\n",
              "      <td>392</td>\n",
              "      <td>2388</td>\n",
              "      <td>100.0</td>\n",
              "      <td>39.00</td>\n",
              "      <td>23.4236</td>\n",
              "      <td>190</td>\n",
              "    </tr>\n",
              "    <tr>\n",
              "      <th>2</th>\n",
              "      <td>1</td>\n",
              "      <td>3</td>\n",
              "      <td>-0.0043</td>\n",
              "      <td>0.0003</td>\n",
              "      <td>100.0</td>\n",
              "      <td>518.67</td>\n",
              "      <td>642.35</td>\n",
              "      <td>1587.99</td>\n",
              "      <td>1404.20</td>\n",
              "      <td>14.62</td>\n",
              "      <td>21.61</td>\n",
              "      <td>554.26</td>\n",
              "      <td>2388.08</td>\n",
              "      <td>9052.94</td>\n",
              "      <td>1.3</td>\n",
              "      <td>47.27</td>\n",
              "      <td>522.42</td>\n",
              "      <td>2388.03</td>\n",
              "      <td>8133.23</td>\n",
              "      <td>8.4178</td>\n",
              "      <td>0.03</td>\n",
              "      <td>390</td>\n",
              "      <td>2388</td>\n",
              "      <td>100.0</td>\n",
              "      <td>38.95</td>\n",
              "      <td>23.3442</td>\n",
              "      <td>189</td>\n",
              "    </tr>\n",
              "    <tr>\n",
              "      <th>3</th>\n",
              "      <td>1</td>\n",
              "      <td>4</td>\n",
              "      <td>0.0007</td>\n",
              "      <td>0.0000</td>\n",
              "      <td>100.0</td>\n",
              "      <td>518.67</td>\n",
              "      <td>642.35</td>\n",
              "      <td>1582.79</td>\n",
              "      <td>1401.87</td>\n",
              "      <td>14.62</td>\n",
              "      <td>21.61</td>\n",
              "      <td>554.45</td>\n",
              "      <td>2388.11</td>\n",
              "      <td>9049.48</td>\n",
              "      <td>1.3</td>\n",
              "      <td>47.13</td>\n",
              "      <td>522.86</td>\n",
              "      <td>2388.08</td>\n",
              "      <td>8133.83</td>\n",
              "      <td>8.3682</td>\n",
              "      <td>0.03</td>\n",
              "      <td>392</td>\n",
              "      <td>2388</td>\n",
              "      <td>100.0</td>\n",
              "      <td>38.88</td>\n",
              "      <td>23.3739</td>\n",
              "      <td>188</td>\n",
              "    </tr>\n",
              "    <tr>\n",
              "      <th>4</th>\n",
              "      <td>1</td>\n",
              "      <td>5</td>\n",
              "      <td>-0.0019</td>\n",
              "      <td>-0.0002</td>\n",
              "      <td>100.0</td>\n",
              "      <td>518.67</td>\n",
              "      <td>642.37</td>\n",
              "      <td>1582.85</td>\n",
              "      <td>1406.22</td>\n",
              "      <td>14.62</td>\n",
              "      <td>21.61</td>\n",
              "      <td>554.00</td>\n",
              "      <td>2388.06</td>\n",
              "      <td>9055.15</td>\n",
              "      <td>1.3</td>\n",
              "      <td>47.28</td>\n",
              "      <td>522.19</td>\n",
              "      <td>2388.04</td>\n",
              "      <td>8133.80</td>\n",
              "      <td>8.4294</td>\n",
              "      <td>0.03</td>\n",
              "      <td>393</td>\n",
              "      <td>2388</td>\n",
              "      <td>100.0</td>\n",
              "      <td>38.90</td>\n",
              "      <td>23.4044</td>\n",
              "      <td>187</td>\n",
              "    </tr>\n",
              "  </tbody>\n",
              "</table>\n",
              "</div>"
            ],
            "text/plain": [
              "   UnitNumber  Cycle  ...  Sensor_21  Target_Remaining_Useful_Life\n",
              "0           1      1  ...    23.4190                           191\n",
              "1           1      2  ...    23.4236                           190\n",
              "2           1      3  ...    23.3442                           189\n",
              "3           1      4  ...    23.3739                           188\n",
              "4           1      5  ...    23.4044                           187\n",
              "\n",
              "[5 rows x 27 columns]"
            ]
          },
          "metadata": {
            "tags": []
          },
          "execution_count": 5
        }
      ]
    },
    {
      "cell_type": "code",
      "metadata": {
        "id": "_jzD5gaHu6VV",
        "outputId": "36d26f60-de6b-4665-89e1-b8965fb1ba3c",
        "colab": {
          "base_uri": "https://localhost:8080/",
          "height": 222
        }
      },
      "source": [
        "# create test_with_target\n",
        "test_with_target = test\n",
        "rul_test.columns=[\"RUL\", \"None\"]\n",
        "rul_test.drop(\"None\", axis=1, inplace=True)\n",
        "rul_test[\"UnitNumber\"]=rul_test.index+1\n",
        "rul = pd.DataFrame(test.groupby('UnitNumber')['Cycle'].max()).reset_index()\n",
        "rul.columns = ['UnitNumber', 'max']\n",
        "rul_test[\"RUL_failed\"]=rul_test[\"RUL\"]+rul[\"max\"]\n",
        "rul_test.drop(\"RUL\", axis=1, inplace=True)\n",
        "test_with_target=test_with_target.merge(rul_test,on=['UnitNumber'],how='left')\n",
        "test_with_target[\"Target_Remaining_Useful_Life\"]=test_with_target['RUL_failed']-test_with_target['Cycle']\n",
        "test_with_target.drop(\"RUL_failed\", axis=1, inplace=True)\n",
        "test_with_target.head(5)"
      ],
      "execution_count": 6,
      "outputs": [
        {
          "output_type": "execute_result",
          "data": {
            "text/html": [
              "<div>\n",
              "<style scoped>\n",
              "    .dataframe tbody tr th:only-of-type {\n",
              "        vertical-align: middle;\n",
              "    }\n",
              "\n",
              "    .dataframe tbody tr th {\n",
              "        vertical-align: top;\n",
              "    }\n",
              "\n",
              "    .dataframe thead th {\n",
              "        text-align: right;\n",
              "    }\n",
              "</style>\n",
              "<table border=\"1\" class=\"dataframe\">\n",
              "  <thead>\n",
              "    <tr style=\"text-align: right;\">\n",
              "      <th></th>\n",
              "      <th>UnitNumber</th>\n",
              "      <th>Cycle</th>\n",
              "      <th>Op_Setting_1</th>\n",
              "      <th>Op_Setting_2</th>\n",
              "      <th>Op_Setting_3</th>\n",
              "      <th>Sensor_1</th>\n",
              "      <th>Sensor_2</th>\n",
              "      <th>Sensor_3</th>\n",
              "      <th>Sensor_4</th>\n",
              "      <th>Sensor_5</th>\n",
              "      <th>Sensor_6</th>\n",
              "      <th>Sensor_7</th>\n",
              "      <th>Sensor_8</th>\n",
              "      <th>Sensor_9</th>\n",
              "      <th>Sensor_10</th>\n",
              "      <th>Sensor_11</th>\n",
              "      <th>Sensor_12</th>\n",
              "      <th>Sensor_13</th>\n",
              "      <th>Sensor_14</th>\n",
              "      <th>Sensor_15</th>\n",
              "      <th>Sensor_16</th>\n",
              "      <th>Sensor_17</th>\n",
              "      <th>Sensor_18</th>\n",
              "      <th>Sensor_19</th>\n",
              "      <th>Sensor_20</th>\n",
              "      <th>Sensor_21</th>\n",
              "      <th>Target_Remaining_Useful_Life</th>\n",
              "    </tr>\n",
              "  </thead>\n",
              "  <tbody>\n",
              "    <tr>\n",
              "      <th>0</th>\n",
              "      <td>1</td>\n",
              "      <td>1</td>\n",
              "      <td>0.0023</td>\n",
              "      <td>0.0003</td>\n",
              "      <td>100.0</td>\n",
              "      <td>518.67</td>\n",
              "      <td>643.02</td>\n",
              "      <td>1585.29</td>\n",
              "      <td>1398.21</td>\n",
              "      <td>14.62</td>\n",
              "      <td>21.61</td>\n",
              "      <td>553.90</td>\n",
              "      <td>2388.04</td>\n",
              "      <td>9050.17</td>\n",
              "      <td>1.3</td>\n",
              "      <td>47.20</td>\n",
              "      <td>521.72</td>\n",
              "      <td>2388.03</td>\n",
              "      <td>8125.55</td>\n",
              "      <td>8.4052</td>\n",
              "      <td>0.03</td>\n",
              "      <td>392</td>\n",
              "      <td>2388</td>\n",
              "      <td>100.0</td>\n",
              "      <td>38.86</td>\n",
              "      <td>23.3735</td>\n",
              "      <td>142</td>\n",
              "    </tr>\n",
              "    <tr>\n",
              "      <th>1</th>\n",
              "      <td>1</td>\n",
              "      <td>2</td>\n",
              "      <td>-0.0027</td>\n",
              "      <td>-0.0003</td>\n",
              "      <td>100.0</td>\n",
              "      <td>518.67</td>\n",
              "      <td>641.71</td>\n",
              "      <td>1588.45</td>\n",
              "      <td>1395.42</td>\n",
              "      <td>14.62</td>\n",
              "      <td>21.61</td>\n",
              "      <td>554.85</td>\n",
              "      <td>2388.01</td>\n",
              "      <td>9054.42</td>\n",
              "      <td>1.3</td>\n",
              "      <td>47.50</td>\n",
              "      <td>522.16</td>\n",
              "      <td>2388.06</td>\n",
              "      <td>8139.62</td>\n",
              "      <td>8.3803</td>\n",
              "      <td>0.03</td>\n",
              "      <td>393</td>\n",
              "      <td>2388</td>\n",
              "      <td>100.0</td>\n",
              "      <td>39.02</td>\n",
              "      <td>23.3916</td>\n",
              "      <td>141</td>\n",
              "    </tr>\n",
              "    <tr>\n",
              "      <th>2</th>\n",
              "      <td>1</td>\n",
              "      <td>3</td>\n",
              "      <td>0.0003</td>\n",
              "      <td>0.0001</td>\n",
              "      <td>100.0</td>\n",
              "      <td>518.67</td>\n",
              "      <td>642.46</td>\n",
              "      <td>1586.94</td>\n",
              "      <td>1401.34</td>\n",
              "      <td>14.62</td>\n",
              "      <td>21.61</td>\n",
              "      <td>554.11</td>\n",
              "      <td>2388.05</td>\n",
              "      <td>9056.96</td>\n",
              "      <td>1.3</td>\n",
              "      <td>47.50</td>\n",
              "      <td>521.97</td>\n",
              "      <td>2388.03</td>\n",
              "      <td>8130.10</td>\n",
              "      <td>8.4441</td>\n",
              "      <td>0.03</td>\n",
              "      <td>393</td>\n",
              "      <td>2388</td>\n",
              "      <td>100.0</td>\n",
              "      <td>39.08</td>\n",
              "      <td>23.4166</td>\n",
              "      <td>140</td>\n",
              "    </tr>\n",
              "    <tr>\n",
              "      <th>3</th>\n",
              "      <td>1</td>\n",
              "      <td>4</td>\n",
              "      <td>0.0042</td>\n",
              "      <td>0.0000</td>\n",
              "      <td>100.0</td>\n",
              "      <td>518.67</td>\n",
              "      <td>642.44</td>\n",
              "      <td>1584.12</td>\n",
              "      <td>1406.42</td>\n",
              "      <td>14.62</td>\n",
              "      <td>21.61</td>\n",
              "      <td>554.07</td>\n",
              "      <td>2388.03</td>\n",
              "      <td>9045.29</td>\n",
              "      <td>1.3</td>\n",
              "      <td>47.28</td>\n",
              "      <td>521.38</td>\n",
              "      <td>2388.05</td>\n",
              "      <td>8132.90</td>\n",
              "      <td>8.3917</td>\n",
              "      <td>0.03</td>\n",
              "      <td>391</td>\n",
              "      <td>2388</td>\n",
              "      <td>100.0</td>\n",
              "      <td>39.00</td>\n",
              "      <td>23.3737</td>\n",
              "      <td>139</td>\n",
              "    </tr>\n",
              "    <tr>\n",
              "      <th>4</th>\n",
              "      <td>1</td>\n",
              "      <td>5</td>\n",
              "      <td>0.0014</td>\n",
              "      <td>0.0000</td>\n",
              "      <td>100.0</td>\n",
              "      <td>518.67</td>\n",
              "      <td>642.51</td>\n",
              "      <td>1587.19</td>\n",
              "      <td>1401.92</td>\n",
              "      <td>14.62</td>\n",
              "      <td>21.61</td>\n",
              "      <td>554.16</td>\n",
              "      <td>2388.01</td>\n",
              "      <td>9044.55</td>\n",
              "      <td>1.3</td>\n",
              "      <td>47.31</td>\n",
              "      <td>522.15</td>\n",
              "      <td>2388.03</td>\n",
              "      <td>8129.54</td>\n",
              "      <td>8.4031</td>\n",
              "      <td>0.03</td>\n",
              "      <td>390</td>\n",
              "      <td>2388</td>\n",
              "      <td>100.0</td>\n",
              "      <td>38.99</td>\n",
              "      <td>23.4130</td>\n",
              "      <td>138</td>\n",
              "    </tr>\n",
              "  </tbody>\n",
              "</table>\n",
              "</div>"
            ],
            "text/plain": [
              "   UnitNumber  Cycle  ...  Sensor_21  Target_Remaining_Useful_Life\n",
              "0           1      1  ...    23.3735                           142\n",
              "1           1      2  ...    23.3916                           141\n",
              "2           1      3  ...    23.4166                           140\n",
              "3           1      4  ...    23.3737                           139\n",
              "4           1      5  ...    23.4130                           138\n",
              "\n",
              "[5 rows x 27 columns]"
            ]
          },
          "metadata": {
            "tags": []
          },
          "execution_count": 6
        }
      ]
    },
    {
      "cell_type": "code",
      "metadata": {
        "id": "qWPbnPh7vEo7",
        "outputId": "ba77c939-36b7-4d20-d390-da7804087efb",
        "colab": {
          "base_uri": "https://localhost:8080/",
          "height": 52
        }
      },
      "source": [
        "# now it's time to clear out target leakage\n",
        "print(train_with_target.shape)\n",
        "un_train = train_with_target['UnitNumber']\n",
        "un_test = test_with_target['UnitNumber']\n",
        "leakage_to_drop = ['UnitNumber', 'Cycle', 'Op_Setting_1', 'Op_Setting_2', 'Op_Setting_3']  \n",
        "train_no_leakage = train_with_target.drop(leakage_to_drop, axis = 1)\n",
        "test_no_leakage = test_with_target.drop(leakage_to_drop, axis = 1)\n",
        "print(train_no_leakage.shape, test_no_leakage.shape)"
      ],
      "execution_count": 7,
      "outputs": [
        {
          "output_type": "stream",
          "text": [
            "(20631, 27)\n",
            "(20631, 22) (13096, 22)\n"
          ],
          "name": "stdout"
        }
      ]
    },
    {
      "cell_type": "code",
      "metadata": {
        "id": "cesU08htvJo_"
      },
      "source": [
        "# sensor slection\n",
        "drop_idx = ['Sensor_'+str(i) for i in [1, 5, 6, 10, 16, 18, 19]]\n",
        "train_no_leakage.drop(drop_idx, axis=1, inplace=True)\n",
        "test_no_leakage.drop(drop_idx, axis=1, inplace=True)"
      ],
      "execution_count": 8,
      "outputs": []
    },
    {
      "cell_type": "code",
      "metadata": {
        "id": "w4H1VBXUvN9P"
      },
      "source": [
        "y_train = train_no_leakage['Target_Remaining_Useful_Life']\n",
        "y_test = test_no_leakage['Target_Remaining_Useful_Life']"
      ],
      "execution_count": 9,
      "outputs": []
    },
    {
      "cell_type": "code",
      "metadata": {
        "id": "GgYxODHmvOow",
        "outputId": "a21c09b8-ec75-4599-a2fa-82f9a3a5dd4c",
        "colab": {
          "base_uri": "https://localhost:8080/",
          "height": 222
        }
      },
      "source": [
        "#[0, 1]で正規化\n",
        "train_no_leakage = train_no_leakage.drop('Target_Remaining_Useful_Life', axis=1)\n",
        "test_no_leakage = test_no_leakage.drop('Target_Remaining_Useful_Life', axis=1)\n",
        "X_min, X_max = train_no_leakage.min(), train_no_leakage.max()\n",
        "train_norm = (train_no_leakage-X_min)/(X_max-X_min)\n",
        "test_norm = (test_no_leakage-X_min)/(X_max-X_min)\n",
        "train_with_unit = pd.concat([un_train, train_norm, y_train], axis=1)\n",
        "test_with_unit = pd.concat([un_test, test_norm, y_test], axis=1)\n",
        "test_with_unit.head(5)"
      ],
      "execution_count": 10,
      "outputs": [
        {
          "output_type": "execute_result",
          "data": {
            "text/html": [
              "<div>\n",
              "<style scoped>\n",
              "    .dataframe tbody tr th:only-of-type {\n",
              "        vertical-align: middle;\n",
              "    }\n",
              "\n",
              "    .dataframe tbody tr th {\n",
              "        vertical-align: top;\n",
              "    }\n",
              "\n",
              "    .dataframe thead th {\n",
              "        text-align: right;\n",
              "    }\n",
              "</style>\n",
              "<table border=\"1\" class=\"dataframe\">\n",
              "  <thead>\n",
              "    <tr style=\"text-align: right;\">\n",
              "      <th></th>\n",
              "      <th>UnitNumber</th>\n",
              "      <th>Sensor_2</th>\n",
              "      <th>Sensor_3</th>\n",
              "      <th>Sensor_4</th>\n",
              "      <th>Sensor_7</th>\n",
              "      <th>Sensor_8</th>\n",
              "      <th>Sensor_9</th>\n",
              "      <th>Sensor_11</th>\n",
              "      <th>Sensor_12</th>\n",
              "      <th>Sensor_13</th>\n",
              "      <th>Sensor_14</th>\n",
              "      <th>Sensor_15</th>\n",
              "      <th>Sensor_17</th>\n",
              "      <th>Sensor_20</th>\n",
              "      <th>Sensor_21</th>\n",
              "      <th>Target_Remaining_Useful_Life</th>\n",
              "    </tr>\n",
              "  </thead>\n",
              "  <tbody>\n",
              "    <tr>\n",
              "      <th>0</th>\n",
              "      <td>1</td>\n",
              "      <td>0.545181</td>\n",
              "      <td>0.310661</td>\n",
              "      <td>0.269413</td>\n",
              "      <td>0.652174</td>\n",
              "      <td>0.212121</td>\n",
              "      <td>0.127614</td>\n",
              "      <td>0.208333</td>\n",
              "      <td>0.646055</td>\n",
              "      <td>0.220588</td>\n",
              "      <td>0.132160</td>\n",
              "      <td>0.308965</td>\n",
              "      <td>0.333333</td>\n",
              "      <td>0.558140</td>\n",
              "      <td>0.661834</td>\n",
              "      <td>142</td>\n",
              "    </tr>\n",
              "    <tr>\n",
              "      <th>1</th>\n",
              "      <td>1</td>\n",
              "      <td>0.150602</td>\n",
              "      <td>0.379551</td>\n",
              "      <td>0.222316</td>\n",
              "      <td>0.805153</td>\n",
              "      <td>0.166667</td>\n",
              "      <td>0.146684</td>\n",
              "      <td>0.386905</td>\n",
              "      <td>0.739872</td>\n",
              "      <td>0.264706</td>\n",
              "      <td>0.204768</td>\n",
              "      <td>0.213159</td>\n",
              "      <td>0.416667</td>\n",
              "      <td>0.682171</td>\n",
              "      <td>0.686827</td>\n",
              "      <td>141</td>\n",
              "    </tr>\n",
              "    <tr>\n",
              "      <th>2</th>\n",
              "      <td>1</td>\n",
              "      <td>0.376506</td>\n",
              "      <td>0.346632</td>\n",
              "      <td>0.322248</td>\n",
              "      <td>0.685990</td>\n",
              "      <td>0.227273</td>\n",
              "      <td>0.158081</td>\n",
              "      <td>0.386905</td>\n",
              "      <td>0.699360</td>\n",
              "      <td>0.220588</td>\n",
              "      <td>0.155640</td>\n",
              "      <td>0.458638</td>\n",
              "      <td>0.416667</td>\n",
              "      <td>0.728682</td>\n",
              "      <td>0.721348</td>\n",
              "      <td>140</td>\n",
              "    </tr>\n",
              "    <tr>\n",
              "      <th>3</th>\n",
              "      <td>1</td>\n",
              "      <td>0.370482</td>\n",
              "      <td>0.285154</td>\n",
              "      <td>0.408001</td>\n",
              "      <td>0.679549</td>\n",
              "      <td>0.196970</td>\n",
              "      <td>0.105717</td>\n",
              "      <td>0.255952</td>\n",
              "      <td>0.573561</td>\n",
              "      <td>0.250000</td>\n",
              "      <td>0.170090</td>\n",
              "      <td>0.257022</td>\n",
              "      <td>0.250000</td>\n",
              "      <td>0.666667</td>\n",
              "      <td>0.662110</td>\n",
              "      <td>139</td>\n",
              "    </tr>\n",
              "    <tr>\n",
              "      <th>4</th>\n",
              "      <td>1</td>\n",
              "      <td>0.391566</td>\n",
              "      <td>0.352082</td>\n",
              "      <td>0.332039</td>\n",
              "      <td>0.694042</td>\n",
              "      <td>0.166667</td>\n",
              "      <td>0.102396</td>\n",
              "      <td>0.273810</td>\n",
              "      <td>0.737740</td>\n",
              "      <td>0.220588</td>\n",
              "      <td>0.152751</td>\n",
              "      <td>0.300885</td>\n",
              "      <td>0.166667</td>\n",
              "      <td>0.658915</td>\n",
              "      <td>0.716377</td>\n",
              "      <td>138</td>\n",
              "    </tr>\n",
              "  </tbody>\n",
              "</table>\n",
              "</div>"
            ],
            "text/plain": [
              "   UnitNumber  Sensor_2  ...  Sensor_21  Target_Remaining_Useful_Life\n",
              "0           1  0.545181  ...   0.661834                           142\n",
              "1           1  0.150602  ...   0.686827                           141\n",
              "2           1  0.376506  ...   0.721348                           140\n",
              "3           1  0.370482  ...   0.662110                           139\n",
              "4           1  0.391566  ...   0.716377                           138\n",
              "\n",
              "[5 rows x 16 columns]"
            ]
          },
          "metadata": {
            "tags": []
          },
          "execution_count": 10
        }
      ]
    },
    {
      "cell_type": "markdown",
      "metadata": {
        "id": "OnKLKdQTvaaN"
      },
      "source": [
        "RULに蓋をする(130で制限)"
      ]
    },
    {
      "cell_type": "code",
      "metadata": {
        "id": "FypOAamJvU9j",
        "outputId": "15ecdad7-50eb-4f00-92bb-0deb8beb5b53",
        "colab": {
          "base_uri": "https://localhost:8080/",
          "height": 222
        }
      },
      "source": [
        "\n",
        "# RULに制限を設ける。\n",
        "RUL_limit = 130\n",
        "# print(np.minimum(y_train, RUL_limit))\n",
        "train_with_unit['Target_Remaining_Useful_Life']  = np.minimum(y_train, RUL_limit)\n",
        "test_with_unit['Target_Remaining_Useful_Life']  = np.minimum(y_test, RUL_limit)\n",
        "train_with_unit.head(5)"
      ],
      "execution_count": 11,
      "outputs": [
        {
          "output_type": "execute_result",
          "data": {
            "text/html": [
              "<div>\n",
              "<style scoped>\n",
              "    .dataframe tbody tr th:only-of-type {\n",
              "        vertical-align: middle;\n",
              "    }\n",
              "\n",
              "    .dataframe tbody tr th {\n",
              "        vertical-align: top;\n",
              "    }\n",
              "\n",
              "    .dataframe thead th {\n",
              "        text-align: right;\n",
              "    }\n",
              "</style>\n",
              "<table border=\"1\" class=\"dataframe\">\n",
              "  <thead>\n",
              "    <tr style=\"text-align: right;\">\n",
              "      <th></th>\n",
              "      <th>UnitNumber</th>\n",
              "      <th>Sensor_2</th>\n",
              "      <th>Sensor_3</th>\n",
              "      <th>Sensor_4</th>\n",
              "      <th>Sensor_7</th>\n",
              "      <th>Sensor_8</th>\n",
              "      <th>Sensor_9</th>\n",
              "      <th>Sensor_11</th>\n",
              "      <th>Sensor_12</th>\n",
              "      <th>Sensor_13</th>\n",
              "      <th>Sensor_14</th>\n",
              "      <th>Sensor_15</th>\n",
              "      <th>Sensor_17</th>\n",
              "      <th>Sensor_20</th>\n",
              "      <th>Sensor_21</th>\n",
              "      <th>Target_Remaining_Useful_Life</th>\n",
              "    </tr>\n",
              "  </thead>\n",
              "  <tbody>\n",
              "    <tr>\n",
              "      <th>0</th>\n",
              "      <td>1</td>\n",
              "      <td>0.183735</td>\n",
              "      <td>0.406802</td>\n",
              "      <td>0.309757</td>\n",
              "      <td>0.726248</td>\n",
              "      <td>0.242424</td>\n",
              "      <td>0.109755</td>\n",
              "      <td>0.369048</td>\n",
              "      <td>0.633262</td>\n",
              "      <td>0.205882</td>\n",
              "      <td>0.199608</td>\n",
              "      <td>0.363986</td>\n",
              "      <td>0.333333</td>\n",
              "      <td>0.713178</td>\n",
              "      <td>0.724662</td>\n",
              "      <td>130</td>\n",
              "    </tr>\n",
              "    <tr>\n",
              "      <th>1</th>\n",
              "      <td>1</td>\n",
              "      <td>0.283133</td>\n",
              "      <td>0.453019</td>\n",
              "      <td>0.352633</td>\n",
              "      <td>0.628019</td>\n",
              "      <td>0.212121</td>\n",
              "      <td>0.100242</td>\n",
              "      <td>0.380952</td>\n",
              "      <td>0.765458</td>\n",
              "      <td>0.279412</td>\n",
              "      <td>0.162813</td>\n",
              "      <td>0.411312</td>\n",
              "      <td>0.333333</td>\n",
              "      <td>0.666667</td>\n",
              "      <td>0.731014</td>\n",
              "      <td>130</td>\n",
              "    </tr>\n",
              "    <tr>\n",
              "      <th>2</th>\n",
              "      <td>1</td>\n",
              "      <td>0.343373</td>\n",
              "      <td>0.369523</td>\n",
              "      <td>0.370527</td>\n",
              "      <td>0.710145</td>\n",
              "      <td>0.272727</td>\n",
              "      <td>0.140043</td>\n",
              "      <td>0.250000</td>\n",
              "      <td>0.795309</td>\n",
              "      <td>0.220588</td>\n",
              "      <td>0.171793</td>\n",
              "      <td>0.357445</td>\n",
              "      <td>0.166667</td>\n",
              "      <td>0.627907</td>\n",
              "      <td>0.621375</td>\n",
              "      <td>130</td>\n",
              "    </tr>\n",
              "    <tr>\n",
              "      <th>3</th>\n",
              "      <td>1</td>\n",
              "      <td>0.343373</td>\n",
              "      <td>0.256159</td>\n",
              "      <td>0.331195</td>\n",
              "      <td>0.740741</td>\n",
              "      <td>0.318182</td>\n",
              "      <td>0.124518</td>\n",
              "      <td>0.166667</td>\n",
              "      <td>0.889126</td>\n",
              "      <td>0.294118</td>\n",
              "      <td>0.174889</td>\n",
              "      <td>0.166603</td>\n",
              "      <td>0.333333</td>\n",
              "      <td>0.573643</td>\n",
              "      <td>0.662386</td>\n",
              "      <td>130</td>\n",
              "    </tr>\n",
              "    <tr>\n",
              "      <th>4</th>\n",
              "      <td>1</td>\n",
              "      <td>0.349398</td>\n",
              "      <td>0.257467</td>\n",
              "      <td>0.404625</td>\n",
              "      <td>0.668277</td>\n",
              "      <td>0.242424</td>\n",
              "      <td>0.149960</td>\n",
              "      <td>0.255952</td>\n",
              "      <td>0.746269</td>\n",
              "      <td>0.235294</td>\n",
              "      <td>0.174734</td>\n",
              "      <td>0.402078</td>\n",
              "      <td>0.416667</td>\n",
              "      <td>0.589147</td>\n",
              "      <td>0.704502</td>\n",
              "      <td>130</td>\n",
              "    </tr>\n",
              "  </tbody>\n",
              "</table>\n",
              "</div>"
            ],
            "text/plain": [
              "   UnitNumber  Sensor_2  ...  Sensor_21  Target_Remaining_Useful_Life\n",
              "0           1  0.183735  ...   0.724662                           130\n",
              "1           1  0.283133  ...   0.731014                           130\n",
              "2           1  0.343373  ...   0.621375                           130\n",
              "3           1  0.343373  ...   0.662386                           130\n",
              "4           1  0.349398  ...   0.704502                           130\n",
              "\n",
              "[5 rows x 16 columns]"
            ]
          },
          "metadata": {
            "tags": []
          },
          "execution_count": 11
        }
      ]
    },
    {
      "cell_type": "code",
      "metadata": {
        "id": "Cb8kDVtAfBKJ",
        "outputId": "b968cd16-aca8-40e0-c80c-0189279bd7b9",
        "colab": {
          "base_uri": "https://localhost:8080/",
          "height": 35
        }
      },
      "source": [
        "train_with_unit.shape"
      ],
      "execution_count": 12,
      "outputs": [
        {
          "output_type": "execute_result",
          "data": {
            "text/plain": [
              "(20631, 16)"
            ]
          },
          "metadata": {
            "tags": []
          },
          "execution_count": 12
        }
      ]
    },
    {
      "cell_type": "markdown",
      "metadata": {
        "id": "d236e4RIvlhS"
      },
      "source": [
        "## データローダーの準備"
      ]
    },
    {
      "cell_type": "code",
      "metadata": {
        "id": "DvV1iFMrJaMn"
      },
      "source": [
        "#tuning parameters\n",
        "window_size = 30\n",
        "batch_size = 100\n",
        "cut_size = 10"
      ],
      "execution_count": 16,
      "outputs": []
    },
    {
      "cell_type": "code",
      "metadata": {
        "id": "wRdCsrrSv8dS"
      },
      "source": [
        "#slice along window\n",
        "def prepare_seq_dataset(input_data, ws, cs):\n",
        "    #X.size= (n-ws, cs, ws/cs, n_feautures)\n",
        "\n",
        "    n_max = input_data['UnitNumber'].max()\n",
        "    n = input_data.shape[0]\n",
        "    width = int(ws/cs)\n",
        "    # X, y = [[0]*cs for _ in range(n-ws)], [[0] for _ in range(n-ws)]\n",
        "    X, y = [], []\n",
        "    for k in range(n_max):\n",
        "      tmp_data = input_data[input_data['UnitNumber']==k+1].drop('UnitNumber', axis=1)\n",
        "      tmp_data = np.array(tmp_data)\n",
        "      n = len(tmp_data)\n",
        "      for i in range(n-ws):\n",
        "          X.append([tmp_data[i+(j)*width:i+(j+1)*width, :-1] for j in range(cs)])\n",
        "          y.append(tmp_data[i+ws, -1])\n",
        "    return torch.tensor(X).float(), torch.tensor(y).float()\n",
        "\n",
        "class DataSet:\n",
        "    def __init__(self, X, t):\n",
        "        self.X = X # 入力\n",
        "        self.t = t # 出力\n",
        "\n",
        "    def __len__(self):\n",
        "        return len(self.X) # データ数(10)を返す\n",
        "\n",
        "    def __getitem__(self, index):\n",
        "        # index番目の入出力ペアを返す\n",
        "        return self.X[index], self.t[index]\n",
        "    \n",
        "X_seq_train, y_seq_train = prepare_seq_dataset(train_with_unit, window_size, cut_size)\n",
        "X_seq_test, y_seq_test = prepare_seq_dataset(test_with_unit, window_size, cut_size)\n",
        "dataset_train = DataSet(X_seq_train, y_seq_train)\n",
        "dataset_test = DataSet(X_seq_test, y_seq_test)\n",
        "dataloader = torch.utils.data.DataLoader(dataset_train, batch_size= batch_size)"
      ],
      "execution_count": 17,
      "outputs": []
    },
    {
      "cell_type": "code",
      "metadata": {
        "id": "RXA0ChUSdycF",
        "outputId": "44d6959b-15b2-4101-d5d1-f1ad5ed9fc90",
        "colab": {
          "base_uri": "https://localhost:8080/",
          "height": 0
        }
      },
      "source": [
        "dataset_train.X.size()"
      ],
      "execution_count": 18,
      "outputs": [
        {
          "output_type": "execute_result",
          "data": {
            "text/plain": [
              "torch.Size([17631, 10, 3, 14])"
            ]
          },
          "metadata": {
            "tags": []
          },
          "execution_count": 18
        }
      ]
    },
    {
      "cell_type": "markdown",
      "metadata": {
        "id": "GU9VH-uXIu2l"
      },
      "source": [
        "## 学習モデルの構築\n",
        "LSTM1(以後L1)とCNN層(以後C1）を並列で学習させ、\n",
        "それをLSTM2(L2）でそれぞれsumしたものを通し、最後に全結合層で出力する。"
      ]
    },
    {
      "cell_type": "code",
      "metadata": {
        "id": "LgnSPdExJRhK"
      },
      "source": [
        "#tuning parameters\n",
        "L1_input_size= dataset_train.X.shape[2]*dataset_train.X.shape[3]\n",
        "L1_hidden_size = 21\n",
        "\n",
        "conv_size = [3, 2]\n",
        "conv_stride = [2, 2]\n",
        "conv_out_size = 3\n",
        "maxpool_size = [1, 2]\n",
        "maxpool_stride = [1, 2]\n",
        "\n",
        "L2_input_size = L1_hidden_size\n",
        "L2_hidden_size = 10\n",
        "output_size = 1\n"
      ],
      "execution_count": 19,
      "outputs": []
    },
    {
      "cell_type": "code",
      "metadata": {
        "id": "TdNYwF4_IY_B"
      },
      "source": [
        "class DAG_CNN_LSTM_Regressor(nn.Module):\n",
        "  def __init__(self,L1_input_size, L1_hidden_size, conv_size, \n",
        "              conv_stride, maxpool_size, maxpool_stride, L2_input_size, L2_hidden_size, output_size):\n",
        "    super().__init__()\n",
        "    #L1\n",
        "    self.L1_input_size = L1_input_size\n",
        "    self.L1_hidden_size = L1_hidden_size\n",
        "    self.LSTM1 = nn.LSTM(self.L1_input_size, self.L1_hidden_size)\n",
        "\n",
        "    # CNN\n",
        "    self.conv_size = conv_size\n",
        "    self.conv_stride = conv_stride\n",
        "    self.conv_out_size = conv_out_size\n",
        "    self.maxpool_size = maxpool_size\n",
        "    self.maxpool_stride = maxpool_stride\n",
        "    self.CNN = nn.Sequential(nn.Conv2d(1, self.conv_out_size, kernel_size=self.conv_size,\n",
        "                                       stride=self.conv_stride, padding=[1, 1]), \n",
        "                              nn.MaxPool2d(self.maxpool_size, self.maxpool_stride), \n",
        "                              nn.Flatten())\n",
        "\n",
        "    #L2\n",
        "    self.L2_input_size = L2_input_size\n",
        "    self.L2_hidden_size = L2_hidden_size\n",
        "    self.LSTM2 = nn.LSTM(self.L2_input_size, self.L2_hidden_size)\n",
        "\n",
        "    # fully connected layer\n",
        "    self.output_size = output_size\n",
        "    self.Linear = nn.Linear(self.L2_hidden_size, self.output_size)\n",
        "  \n",
        "  def init_hidden(self, batch_size):\n",
        "        hidden_state1 = torch.zeros(1, batch_size, self.L1_hidden_size)\n",
        "        cell_state1 = torch.zeros(1, batch_size, self.L1_hidden_size)\n",
        "        self.hidden1 = (hidden_state1, cell_state1)\n",
        "        hidden_state2 = torch.zeros(1, batch_size, self.L2_hidden_size)\n",
        "        cell_state2 = torch.zeros(1, batch_size, self.L2_hidden_size)\n",
        "        self.hidden2 = (hidden_state2, cell_state2)\n",
        "\n",
        "\n",
        "  def forward(self, x):\n",
        "    batch_size, seq_size, width, n_features = x.size()\n",
        "\n",
        "    #LSTM1\n",
        "    #input size = (seq_size, batch_size, width*n_features)\n",
        "    #output_size = (seq_size, batch_size, hidden_size)\n",
        "    out1, self.hidden1 = self.LSTM1(torch.transpose(x, 0, 1).reshape(seq_size, batch_size, -1), self.hidden1)\n",
        "    \n",
        "    #CNN\n",
        "    #input size = (seq_size, 1, n_features, width)\n",
        "    #output_size = (seq_size, batch_size, hidden_size)\n",
        "    out2 = torch.zeros((batch_size,seq_size, self.L1_hidden_size ))\n",
        "    for i in range(batch_size):\n",
        "      out2[i] = self.CNN(x[i].view(seq_size, 1, n_features, width))\n",
        "    # print(out2.size())\n",
        "    \n",
        "    # combine outputs\n",
        "    out = out1+ torch.transpose(out2, 0, 1)\n",
        "    #LSTM2\n",
        "    _, self.hidden2 = self.LSTM2(out, self.hidden2)\n",
        "    \n",
        "    #fully connecter\n",
        "    out = self.Linear(self.hidden2[0][0].view(batch_size, -1))\n",
        "    return out"
      ],
      "execution_count": 20,
      "outputs": []
    },
    {
      "cell_type": "markdown",
      "metadata": {
        "id": "c-YfsB8-IaH8"
      },
      "source": [
        "## 訓練開始！\n"
      ]
    },
    {
      "cell_type": "code",
      "metadata": {
        "id": "LEWNRX8O2K4a"
      },
      "source": [
        "# training epoches\n",
        "\n",
        "n_epoches = 100"
      ],
      "execution_count": 22,
      "outputs": []
    },
    {
      "cell_type": "code",
      "metadata": {
        "id": "5vTkw3eCIY2t",
        "outputId": "c64bb3b3-fb03-41f5-d848-e3d425600b8c",
        "colab": {
          "base_uri": "https://localhost:8080/",
          "height": 208
        }
      },
      "source": [
        "#training\n",
        "model = DAG_CNN_LSTM_Regressor(L1_input_size, L1_hidden_size, conv_size, \n",
        "                     conv_stride, maxpool_size, maxpool_stride, L2_input_size, L2_hidden_size, output_size)\n",
        "loss_fn = nn.MSELoss()\n",
        "optimizer = optim.Adam(model.parameters(), lr=.005)\n",
        "RMSE_his = []\n",
        "for epoch in range(n_epoches):\n",
        "    loss_all = []\n",
        "    for i, data in enumerate(dataloader):\n",
        "        x_batch, y_batch = data\n",
        "        optimizer.zero_grad()\n",
        "        model.init_hidden(len(x_batch))\n",
        "        #calc \n",
        "        y_pred = model(x_batch)\n",
        "        loss = loss_fn(y_pred.view(-1), y_batch)\n",
        "        loss_all.append(loss.item())\n",
        "        # update\n",
        "        loss.backward()\n",
        "        optimizer.step()\n",
        "    RMSE_his.append(np.sqrt(sum(loss_all)/len(loss_all)))\n",
        "    if epoch%10 == 9:\n",
        "        print('epoch: {0:3}: RMSE: {1:10.8f}'.format(epoch+1, RMSE_his[epoch]))\n",
        "print('Done!')"
      ],
      "execution_count": 23,
      "outputs": [
        {
          "output_type": "stream",
          "text": [
            "epoch:  10: RMSE: 46.57784317\n",
            "epoch:  20: RMSE: 43.46076484\n",
            "epoch:  30: RMSE: 43.45394962\n",
            "epoch:  40: RMSE: 26.85400732\n",
            "epoch:  50: RMSE: 20.81821844\n",
            "epoch:  60: RMSE: 18.03719938\n",
            "epoch:  70: RMSE: 16.76566851\n",
            "epoch:  80: RMSE: 16.12030406\n",
            "epoch:  90: RMSE: 15.58332250\n",
            "epoch: 100: RMSE: 15.27081709\n",
            "Done!\n"
          ],
          "name": "stdout"
        }
      ]
    },
    {
      "cell_type": "code",
      "metadata": {
        "id": "FM20OXwYIie9",
        "outputId": "491b0aeb-aca9-4128-b511-1c7eb018d433",
        "colab": {
          "base_uri": "https://localhost:8080/",
          "height": 35
        }
      },
      "source": [
        "y_true = dataset_test.t\n",
        "with torch.no_grad():\n",
        "    model.init_hidden(dataset_test.X.size(0))\n",
        "    y_pred = model(dataset_test.X)\n",
        "    mseloss = loss_fn(y_pred.view(-1), y_true)\n",
        "print('RMSE: {}'.format(np.sqrt(mseloss)))"
      ],
      "execution_count": 24,
      "outputs": [
        {
          "output_type": "stream",
          "text": [
            "RMSE: 15.3301362991333\n"
          ],
          "name": "stdout"
        }
      ]
    },
    {
      "cell_type": "markdown",
      "metadata": {
        "id": "RNaH1TgWImsn"
      },
      "source": [
        "## 結果の表示"
      ]
    },
    {
      "cell_type": "code",
      "metadata": {
        "id": "SNr45SWY9L7r",
        "outputId": "0f2f68df-820b-4408-8542-e15743a54a32",
        "colab": {
          "base_uri": "https://localhost:8080/",
          "height": 359
        }
      },
      "source": [
        "f = plt.figure(figsize=(12, 5))\n",
        "plt.plot(RMSE_his, label='RMSE')\n",
        "plt.xlabel('epoch')\n",
        "plt.ylabel('RMSE')"
      ],
      "execution_count": 26,
      "outputs": [
        {
          "output_type": "execute_result",
          "data": {
            "text/plain": [
              "Text(0, 0.5, 'RMSE')"
            ]
          },
          "metadata": {
            "tags": []
          },
          "execution_count": 26
        },
        {
          "output_type": "display_data",
          "data": {
            "image/png": "[encoded data removed]",
            "text/plain": [
              "<Figure size 864x360 with 1 Axes>"
            ]
          },
          "metadata": {
            "tags": []
          }
        }
      ]
    },
    {
      "cell_type": "code",
      "metadata": {
        "id": "KTwLmEW1Il0A",
        "outputId": "149d9447-349c-45a8-d842-9302c393b68d",
        "colab": {
          "base_uri": "https://localhost:8080/",
          "height": 339
        }
      },
      "source": [
        "f= plt.figure(figsize=(12, 5))\n",
        "plt.plot(y_true[:2000], label='true')\n",
        "plt.plot(y_pred[:2000], label='prediction')\n",
        "plt.ylabel('RUL')\n",
        "plt.legend()"
      ],
      "execution_count": 28,
      "outputs": [
        {
          "output_type": "execute_result",
          "data": {
            "text/plain": [
              "<matplotlib.legend.Legend at 0x7fac66fbb2b0>"
            ]
          },
          "metadata": {
            "tags": []
          },
          "execution_count": 28
        },
        {
          "output_type": "display_data",
          "data": {
            "image/png": "[encoded data removed]",
            "text/plain": [
              "<Figure size 864x360 with 1 Axes>"
            ]
          },
          "metadata": {
            "tags": []
          }
        }
      ]
    },
    {
      "cell_type": "code",
      "metadata": {
        "id": "ejlz4cZCEtUa",
        "outputId": "db911162-3dc5-49f9-f279-8c66dbe5a0bc",
        "colab": {
          "base_uri": "https://localhost:8080/",
          "height": 378
        }
      },
      "source": [
        "f= plt.figure(figsize=(12, 5))\n",
        "plt.hist(y_pred.view(-1)-y_true, range=(-60, 60), bins=12)\n",
        "plt.xlabel('Error=y_pred-y_true')\n",
        "plt.ylabel('Frequancy')\n",
        "plt.legend()"
      ],
      "execution_count": 31,
      "outputs": [
        {
          "output_type": "stream",
          "text": [
            "No handles with labels found to put in legend.\n"
          ],
          "name": "stderr"
        },
        {
          "output_type": "execute_result",
          "data": {
            "text/plain": [
              "<matplotlib.legend.Legend at 0x7fac4701cba8>"
            ]
          },
          "metadata": {
            "tags": []
          },
          "execution_count": 31
        },
        {
          "output_type": "display_data",
          "data": {
            "image/png": "[encoded data removed]",
            "text/plain": [
              "<Figure size 864x360 with 1 Axes>"
            ]
          },
          "metadata": {
            "tags": []
          }
        }
      ]
    },
    {
      "cell_type": "code",
      "metadata": {
        "id": "u7Jwqe6yxx0c",
        "outputId": "8114afd7-e793-478b-b640-56b5aa9a64d3",
        "colab": {
          "base_uri": "https://localhost:8080/",
          "height": 104
        }
      },
      "source": [
        "x = torch.rand(3, 2)\n",
        "print(x)\n",
        "print(x.transpose(0,1))"
      ],
      "execution_count": 182,
      "outputs": [
        {
          "output_type": "stream",
          "text": [
            "tensor([[0.3060, 0.8926],\n",
            "        [0.8915, 0.1161],\n",
            "        [0.1687, 0.3280]])\n",
            "tensor([[0.3060, 0.8915, 0.1687],\n",
            "        [0.8926, 0.1161, 0.3280]])\n"
          ],
          "name": "stdout"
        }
      ]
    }
  ]
}