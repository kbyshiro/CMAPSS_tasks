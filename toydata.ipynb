{
  "nbformat": 4,
  "nbformat_minor": 0,
  "metadata": {
    "colab": {
      "name": "toydata.ipynb",
      "provenance": [],
      "mount_file_id": "1ItLW1qVAe6ZZ9HqL1nADeRMRJvOavhSi",
      "authorship_tag": "ABX9TyOi1nz8LnO2C9shEyUY9hQM",
      "include_colab_link": true
    },
    "kernelspec": {
      "name": "python3",
      "display_name": "Python 3"
    }
  },
  "cells": [
    {
      "cell_type": "markdown",
      "metadata": {
        "id": "view-in-github",
        "colab_type": "text"
      },
      "source": [
        "<a href=\"https://colab.research.google.com/github/kbyshiro/CMAPSS_tasks/blob/main/toydata.ipynb\" target=\"_parent\"><img src=\"https://colab.research.google.com/assets/colab-badge.svg\" alt=\"Open In Colab\"/></a>"
      ]
    },
    {
      "cell_type": "code",
      "metadata": {
        "id": "LECGPNj6zpS6"
      },
      "source": [
        "import numpy as np\r\n",
        "import os\r\n",
        "from matplotlib import pyplot as plt\r\n",
        "import seaborn as sns\r\n",
        "import torch\r\n",
        "from torch import optim \r\n",
        "import torch.nn as nn\r\n",
        "import torch.nn.functional as F"
      ],
      "execution_count": 2,
      "outputs": []
    },
    {
      "cell_type": "code",
      "metadata": {
        "id": "M2fV3HTY0S2a"
      },
      "source": [
        "class ASL(nn.Module):\r\n",
        "  def __init__(self, m=0, gm=0 , gp=0):\r\n",
        "    self.m = m\r\n",
        "    self.gm = gm\r\n",
        "    self.gp = gp\r\n",
        "    super(ASL, self).__init__()\r\n",
        "  \r\n",
        "  def forward(self, input, target):\r\n",
        "    ret = 0 \r\n",
        "    for i in range(len(input)):\r\n",
        "      if target[i] == 0:\r\n",
        "        pm = max(0, input[i].item()-self.m)\r\n",
        "        ret += -(1-target[i])*(pm**self.gm)*np.log(1-pm)\r\n",
        "      else:\r\n",
        "        p = input[i].item()\r\n",
        "        ret += -target[i]*((1-p)**self.gp)*np.log(p)\r\n",
        "    return ret"
      ],
      "execution_count": 53,
      "outputs": []
    },
    {
      "cell_type": "code",
      "metadata": {
        "id": "5u-uOHns7_M8"
      },
      "source": [
        "t_true = np.zeros(200, dtype=float)\r\n",
        "t_true[-15:] =1\r\n",
        "\r\n",
        "y1 = np.full(200,0.2, dtype=float)\r\n",
        "y1[-25:] =0.9\r\n",
        "y2 = np.full(200, 0.2, dtype=float)\r\n",
        "y2[-5:] =0.9\r\n",
        "\r\n",
        "t_true = torch.Tensor(t_true)\r\n",
        "y1 = torch.Tensor(y1)\r\n",
        "y2 = torch.Tensor(y2)\r\n"
      ],
      "execution_count": 35,
      "outputs": []
    },
    {
      "cell_type": "code",
      "metadata": {
        "colab": {
          "base_uri": "https://localhost:8080/"
        },
        "id": "bGdZezI59vGs",
        "outputId": "30e97742-de21-4875-bc7b-1044de8ff023"
      },
      "source": [
        "loss_func = ASL(m=0.2, gm=3, gp=0.5)\r\n",
        "loss1 = loss_func(y1, t_true)\r\n",
        "\r\n",
        "loss2 = loss_func(y2, t_true)\r\n",
        "\r\n",
        "print(loss1, loss2)"
      ],
      "execution_count": 54,
      "outputs": [
        {
          "output_type": "stream",
          "text": [
            "tensor(4.6294) tensor(14.5618)\n"
          ],
          "name": "stdout"
        }
      ]
    },
    {
      "cell_type": "code",
      "metadata": {
        "id": "cQVgRC2F-Q1y"
      },
      "source": [
        "class Cost():\r\n",
        "  def __init__(self):\r\n",
        "    return\r\n",
        "\r\n",
        "  def setcost(self, c0, k1, k2, k3):\r\n",
        "    self.c0 = c0\r\n",
        "    self.k1 = k1\r\n",
        "    self.k2 = k2\r\n",
        "    selfl.k3 = k3\r\n",
        "    \r\n",
        "  def setprob(self, lda, mu, delta):\r\n",
        "    self.lda = lda\r\n",
        "    self.mu = mu\r\n",
        "    self.delta = delta\r\n",
        "\r\n",
        "  def optmizedTime(self):\r\n",
        "    self.t_opt = np.sqrt(2*self.c0/(self.lda*self.mu*self.delta*(self.k3-self.k1-(1-self.delta)*self.mu/self.lda*self.k2)))\r\n",
        "    return self.t_opt\r\n",
        "  \r\n",
        "  def opmizedCost(self):\r\n",
        "    t_opt = self.optmizedTime()\r\n",
        "    self.C0 = self.c0/t_op\r\n",
        "    self.C1 = self.k1*self.lda*(1-self.delta*self.mu*t_opt/2)\r\n",
        "    self.C2 = self.k2*(1-self.delta)*self.mu*(1-self.delta*self.mu*t_opt/2)\r\n",
        "    self.C3 = 1/2*self.k3*self.lda*self.mu*self.delta*t_opt\r\n",
        "    self.c_opt = self.C0 + self.C1 + self.C2 + self.C3\r\n",
        "    return self.c_opt"
      ],
      "execution_count": 55,
      "outputs": []
    },
    {
      "cell_type": "code",
      "metadata": {
        "id": "g6TcYyhbD_Lt"
      },
      "source": [
        "C0 = 100\r\n",
        "k1 = 10\r\n",
        "k2 = 100\r\n",
        "k3 = 10000\r\n",
        "\r\n"
      ],
      "execution_count": null,
      "outputs": []
    },
    {
      "cell_type": "code",
      "metadata": {
        "colab": {
          "base_uri": "https://localhost:8080/",
          "height": 134
        },
        "id": "rbInVobWPP8A",
        "outputId": "1e094392-7263-4243-b158-659f49bea816"
      },
      "source": [
        "lamda = 15/200\r\n",
        "'''\r\n",
        "寿命をガウス分布で生成\r\n",
        "\r\n",
        "\r\n",
        "\r\n",
        "性能は自分で決める\r\n",
        "\r\n",
        "→\r\n",
        "\r\n",
        "コストの出力\r\n",
        "\r\n",
        "何かパラメータ\r\n",
        "コスト、性能\r\n",
        "のうちコストに最も効いているのはどれかは議論しよう。\r\n",
        "\r\n",
        "y1 y2の比率変えて性能決めて評価してみる。\r\n",
        "\r\n",
        "’’’\r\n",
        "\r\n"
      ],
      "execution_count": 59,
      "outputs": [
        {
          "output_type": "error",
          "ename": "SyntaxError",
          "evalue": "ignored",
          "traceback": [
            "\u001b[0;36m  File \u001b[0;32m\"<ipython-input-59-22e09f817364>\"\u001b[0;36m, line \u001b[0;32m2\u001b[0m\n\u001b[0;31m    ```\u001b[0m\n\u001b[0m    ^\u001b[0m\n\u001b[0;31mSyntaxError\u001b[0m\u001b[0;31m:\u001b[0m invalid syntax\n"
          ]
        }
      ]
    },
    {
      "cell_type": "code",
      "metadata": {
        "id": "Bmnc2FUHP-oK"
      },
      "source": [
        ""
      ],
      "execution_count": null,
      "outputs": []
    }
  ]
}