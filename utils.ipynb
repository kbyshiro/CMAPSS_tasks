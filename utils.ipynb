{
  "nbformat": 4,
  "nbformat_minor": 0,
  "metadata": {
    "colab": {
      "name": "toydata.ipynb",
      "provenance": [],
      "mount_file_id": "1ItLW1qVAe6ZZ9HqL1nADeRMRJvOavhSi",
      "authorship_tag": "ABX9TyNcoIXtx9FZoy7OP05L/M2F",
      "include_colab_link": true
    },
    "kernelspec": {
      "name": "python3",
      "display_name": "Python 3"
    }
  },
  "cells": [
    {
      "cell_type": "markdown",
      "metadata": {
        "id": "view-in-github",
        "colab_type": "text"
      },
      "source": [
        "<a href=\"https://colab.research.google.com/github/kbyshiro/CMAPSS_tasks/blob/main/utils.ipynb\" target=\"_parent\"><img src=\"https://colab.research.google.com/assets/colab-badge.svg\" alt=\"Open In Colab\"/></a>"
      ]
    },
    {
      "cell_type": "markdown",
      "metadata": {
        "id": "Cyljg_8QI6MJ"
      },
      "source": [
        "# インポート\r\n",
        "\r\n"
      ]
    },
    {
      "cell_type": "code",
      "metadata": {
        "id": "LECGPNj6zpS6"
      },
      "source": [
        "import numpy as np\r\n",
        "import os\r\n",
        "from matplotlib import pyplot as plt\r\n",
        "import seaborn as sns\r\n",
        "import torch\r\n",
        "from torch import optim \r\n",
        "import torch.nn as nn\r\n",
        "import torch.nn.functional as F\r\n",
        "import random \r\n",
        "\r\n",
        "np.random.seed(1234)\r\n",
        "random.seed(0)\r\n",
        "PYTHONSEED = 0"
      ],
      "execution_count": 2,
      "outputs": []
    },
    {
      "cell_type": "markdown",
      "metadata": {
        "id": "GtnH7aAAJGro"
      },
      "source": [
        "# ASLの導入"
      ]
    },
    {
      "cell_type": "code",
      "metadata": {
        "id": "M2fV3HTY0S2a"
      },
      "source": [
        "class ASL(nn.Module):\r\n",
        "  '''\r\n",
        "  m : シフト量\r\n",
        "  gm : 負値のダウンウェート\r\n",
        "  gp : 正値のダウンウェート\r\n",
        "\r\n",
        "  '''\r\n",
        "  def __init__(self, m=0, gm=0 , gp=0):\r\n",
        "    super(ASL, self).__init__()\r\n",
        "    self.m = m\r\n",
        "    self.gm = gm\r\n",
        "    self.gp = gp\r\n",
        "    self.softmax = nn.Softmax(dim=1)\r\n",
        "  \r\n",
        "  def forward(self, input, target):\r\n",
        "    '''\r\n",
        "    input(Tensor, Float) : (batch, class)\r\n",
        "    target(Tensor, Long) : (batch, ) \r\n",
        "    '''\r\n",
        "    input = self.softmax(input)\r\n",
        "    target = target.unsqueeze(1)\r\n",
        "    target = torch.cat([target, 1-target], axis=1)\r\n",
        "\r\n",
        "    \r\n",
        "    lossp = (-target[:, 0]*(input[:, 1]**self.gp)*torch.log(input[:, 0])).sum()\r\n",
        "\r\n",
        "    input_m = torch.maximum(input[:, 0]-self.m, torch.zeros((input.size()[0]))).unsqueeze(1)\r\n",
        "\r\n",
        "    input_m = torch.cat([input_m, 1-input_m], axis=1)\r\n",
        "    lossm = (-target[:, 1]*(input_m[:, 0]**self.gm)*torch.log(input_m[:, 1])).sum()\r\n",
        "    loss = (lossp+lossm)/input.size()[0]\r\n",
        "    return loss"
      ],
      "execution_count": 3,
      "outputs": []
    },
    {
      "cell_type": "code",
      "metadata": {
        "id": "5u-uOHns7_M8"
      },
      "source": [
        "t_true = torch.zeros(200, dtype=torch.long)\r\n",
        "t_true[-15:] =1\r\n",
        "\r\n",
        "y1 = torch.full((200,1), 0.1)\r\n",
        "y1[-25:] =0.9\r\n",
        "y2 = torch.full((200, 1), 0.1)\r\n",
        "y2[-5:] =0.9\r\n",
        "\r\n",
        "y1 = torch.cat((y1, 1-y1), dim=1)\r\n",
        "y2 = torch.cat((y2, 1-y2), dim=1)"
      ],
      "execution_count": 4,
      "outputs": []
    },
    {
      "cell_type": "code",
      "metadata": {
        "colab": {
          "base_uri": "https://localhost:8080/"
        },
        "id": "bGdZezI59vGs",
        "outputId": "501be85a-3130-4494-92d1-ccf3550d0383"
      },
      "source": [
        "asl = ASL(m=0.2, gm=3, gp=0)\r\n",
        "x = torch.randn((3, 2))\r\n",
        "t = torch.rand(3)\r\n",
        "ce = nn.CrossEntropyLoss()\r\n",
        "asl(y1, t_true), ce(y1, t_true)"
      ],
      "execution_count": 5,
      "outputs": [
        {
          "output_type": "execute_result",
          "data": {
            "text/plain": [
              "(tensor(0.0319), tensor(1.1311))"
            ]
          },
          "metadata": {
            "tags": []
          },
          "execution_count": 5
        }
      ]
    },
    {
      "cell_type": "markdown",
      "metadata": {
        "id": "q15dRH4tJO6O"
      },
      "source": [
        "# コスト最小化モデルの導入"
      ]
    },
    {
      "cell_type": "code",
      "metadata": {
        "id": "cQVgRC2F-Q1y"
      },
      "source": [
        "class CostOptimizationWithTBM():\r\n",
        "  def __init__(self, c0, k1, k2, k3, T0):\r\n",
        "    self.c0 = c0\r\n",
        "    self.k1 = k1\r\n",
        "    self.k2 = k2\r\n",
        "    self.k3 = k3\r\n",
        "    self.T0 = T0\r\n",
        "    self.softmax = nn.Softmax(dim=1)\r\n",
        "    return\r\n",
        "\r\n",
        "  def setprob(self, input, target, unit_size = 100):\r\n",
        "    input = self.softmax(input)\r\n",
        "    self.lda = unit_size/len(target)\r\n",
        "    N_TN, N_FP = 0, 0\r\n",
        "    for x, y in zip(input[:, 0], target):\r\n",
        "      if x < 0.2 and y == 1:\r\n",
        "        N_TN+= 1\r\n",
        "      elif x > 0.85 and y == 0:\r\n",
        "        N_FP += 1\r\n",
        "    self.mu = (N_TN+N_FP)/len(target)\r\n",
        "    self.delta = N_TN/(N_TN+N_FP)\r\n",
        "    return \r\n",
        "\r\n",
        "  def OptimizeTBM(self):\r\n",
        "    '''\r\n",
        "    t_opt1 :コストによる最適なTBM実施区間\r\n",
        "    t_opt2 : 安全によるTBM実施区間の上限\r\n",
        "    '''\r\n",
        "    self.t_opt1 = np.sqrt(2*self.c0/(self.lda*self.mu*self.delta*(self.k3-self.k1-(1-self.delta)*self.mu/self.lda*self.k2)))\r\n",
        "    self.t_opt2 = (self.T0**2/(self.delta*self.mu)*(3-self.lda*self.T0))**(1/3)\r\n",
        "    self.t_opt = min(self.t_opt1, self.t_opt2)\r\n",
        "    return self.t_opt\r\n",
        "  \r\n",
        "  def OptimizeCost(self, t):\r\n",
        "    '''\r\n",
        "    2次までテーラー展開した時のコストの算出\r\n",
        "    '''\r\n",
        "    self.C0 = self.c0/t    \r\n",
        "    self.C1 = self.k1*self.lda*(1-self.delta*self.mu*t/2)\r\n",
        "    self.C2 = self.k2*(1-self.delta)*self.mu*(1-self.delta*self.mu*t/2)\r\n",
        "    self.C3 = 1/2*self.k3*self.lda*self.mu*self.delta*t\r\n",
        "    self.c_opt = self.C0 + self.C1 + self.C2 + self.C3\r\n",
        "    return self.c_opt\r\n",
        "\r\n",
        "  def GetCostAndTBM(self, input, target, unit_size):\r\n",
        "    self.setprob(input, target, unit_size)\r\n",
        "    t_opt = self.OptimizeTBM()\r\n",
        "    self.OptimizeCost(t_opt)\r\n",
        "    return self.t_opt, self.c_opt\r\n"
      ],
      "execution_count": 44,
      "outputs": []
    },
    {
      "cell_type": "code",
      "metadata": {
        "id": "g6TcYyhbD_Lt"
      },
      "source": [
        "C0 = 100\r\n",
        "k1 = 10\r\n",
        "k2 = 100\r\n",
        "k3 = 10000\r\n",
        "T0 = 50"
      ],
      "execution_count": 58,
      "outputs": []
    },
    {
      "cell_type": "markdown",
      "metadata": {
        "id": "33YG9qj-JY3a"
      },
      "source": [
        "# トイデータの自動生成"
      ]
    },
    {
      "cell_type": "code",
      "metadata": {
        "id": "lyGbQWSm7Jst"
      },
      "source": [
        "def create_toydata(lifetime, target, residual, n_size):\r\n",
        "  lifetime_t = np.random.normal(loc=lifetime, scale=50, size=n_size)\r\n",
        "  lifetime_t = list(map(int, lifetime_t))\r\n",
        "  lifetime_s2 = []\r\n",
        "  lifetime_s3 = []\r\n",
        "  for x in lifetime_t:\r\n",
        "    lifetime_s2.append(int(np.random.normal(loc=x-target-residual, scale= 10)))\r\n",
        "    lifetime_s3.append(int(np.random.normal(loc=x-target+residual, scale=10)))\r\n",
        "  t_true = []\r\n",
        "  y_s2 = []\r\n",
        "  y_s3 = []\r\n",
        "  for x, y, z in zip(lifetime_t, lifetime_s2, lifetime_s3):\r\n",
        "    tmp = np.zeros(x)\r\n",
        "    tmp[-target:]  = 1\r\n",
        "    t_true.append(tmp)\r\n",
        "\r\n",
        "    tmp = np.full((x, 2), fill_value=[np.log(0.1), np.log(0.9)])\r\n",
        "    tmp[y:] = np.log(.9), np.log(.1)\r\n",
        "    y_s2.append(tmp)\r\n",
        "\r\n",
        "    tmp = np.full((x, 2), fill_value=[np.log(0.1), np.log(0.9)])\r\n",
        "    tmp[z:] = np.log(.9), np.log(.1)\r\n",
        "    y_s3.append(tmp)\r\n",
        "  t_true = torch.tensor([item for sub in t_true for item in sub], dtype=torch.long)\r\n",
        "  y_s2 = torch.tensor([item for sub in y_s2 for item in sub])\r\n",
        "  y_s3 = torch.tensor([item for sub in y_s3 for item in sub])\r\n",
        "  return t_true, y_s2, y_s3"
      ],
      "execution_count": 59,
      "outputs": []
    },
    {
      "cell_type": "code",
      "metadata": {
        "id": "prW7oZ4X7M3S",
        "colab": {
          "base_uri": "https://localhost:8080/"
        },
        "outputId": "6a192170-810b-437b-c6a6-5d0d778a384f"
      },
      "source": [
        "t_true, y_s2, y_s3 = create_toydata(200, 20, 15, 1000)\r\n",
        "print(t_true.size(), y_s2.size())"
      ],
      "execution_count": 60,
      "outputs": [
        {
          "output_type": "stream",
          "text": [
            "torch.Size([196999]) torch.Size([196999, 2])\n"
          ],
          "name": "stdout"
        }
      ]
    },
    {
      "cell_type": "code",
      "metadata": {
        "colab": {
          "base_uri": "https://localhost:8080/"
        },
        "id": "Eq7ApASn663c",
        "outputId": "208efd65-b63a-4d06-b09a-5df028137597"
      },
      "source": [
        "print(asl(y_s2, t_true), asl(y_s3, t_true))"
      ],
      "execution_count": 61,
      "outputs": [
        {
          "output_type": "stream",
          "text": [
            "tensor(0.0460, dtype=torch.float64) tensor(0.1527, dtype=torch.float64)\n"
          ],
          "name": "stdout"
        }
      ]
    },
    {
      "cell_type": "code",
      "metadata": {
        "colab": {
          "base_uri": "https://localhost:8080/"
        },
        "id": "uo9P9otbGsAN",
        "outputId": "25e3d05c-ab66-48be-e1bb-d04647a033b4"
      },
      "source": [
        "CostOpt = CostOptimizationWithTBM(C0, k1, k2, k3, T0)\r\n",
        "CostOpt.GetCostAndTBM(y_s2, t_true, unit_size=1000)"
      ],
      "execution_count": 62,
      "outputs": [
        {
          "output_type": "stream",
          "text": [
            "230 15595\n"
          ],
          "name": "stdout"
        },
        {
          "output_type": "execute_result",
          "data": {
            "text/plain": [
              "(63.26863066971526, 11.128169725728096)"
            ]
          },
          "metadata": {
            "tags": []
          },
          "execution_count": 62
        }
      ]
    },
    {
      "cell_type": "code",
      "metadata": {
        "colab": {
          "base_uri": "https://localhost:8080/"
        },
        "id": "SmkD_wZzH_-4",
        "outputId": "bbe16e07-b68c-4665-bb44-8cd856b28910"
      },
      "source": [
        "print(CostOpt.lda, CostOpt.mu, CostOpt.delta, CostOpt.t_opt1, CostOpt.t_opt2)"
      ],
      "execution_count": 63,
      "outputs": [
        {
          "output_type": "stream",
          "text": [
            "0.0050761678993294385 0.08033035700688836 0.014533965244865719 63.26863066971526 180.49659346413085\n"
          ],
          "name": "stdout"
        }
      ]
    },
    {
      "cell_type": "code",
      "metadata": {
        "id": "q_TsHf7GJotu"
      },
      "source": [
        "y = []\r\n",
        "for x in range(1, 400):\r\n",
        "  y.append(CostOpt.OptimizeCost(x))"
      ],
      "execution_count": 55,
      "outputs": []
    },
    {
      "cell_type": "code",
      "metadata": {
        "colab": {
          "base_uri": "https://localhost:8080/",
          "height": 283
        },
        "id": "aDiAKCDMQ90q",
        "outputId": "9d63d1c3-83b3-4898-affa-f6de963e8519"
      },
      "source": [
        "plt.plot(y)\r\n"
      ],
      "execution_count": 57,
      "outputs": [
        {
          "output_type": "execute_result",
          "data": {
            "text/plain": [
              "[<matplotlib.lines.Line2D at 0x7f283d1990d0>]"
            ]
          },
          "metadata": {
            "tags": []
          },
          "execution_count": 57
        },
        {
          "output_type": "display_data",
          "data": {
            "image/png": "[encoded data removed]",
            "text/plain": [
              "<Figure size 432x288 with 1 Axes>"
            ]
          },
          "metadata": {
            "tags": [],
            "needs_background": "light"
          }
        }
      ]
    },
    {
      "cell_type": "markdown",
      "metadata": {
        "id": "zpo0gbIcH_rq"
      },
      "source": [
        "# データセットへのラベル付け\r\n"
      ]
    },
    {
      "cell_type": "code",
      "metadata": {
        "id": "DPuk60dM3AVg"
      },
      "source": [
        "class DataSet:\r\n",
        "    def __init__(self, X=[], t=[]):\r\n",
        "        self.X = X # 入力\r\n",
        "        self.t = t # 出力\r\n",
        "\r\n",
        "    def __len__(self):\r\n",
        "        return len(self.X) \r\n",
        "\r\n",
        "    def __getitem__(self, index):\r\n",
        "        # index番目の入出力ペアを返す\r\n",
        "        return self.X[index], self.t[index]\r\n",
        "    \r\n",
        "\r\n",
        "class FD_Dataset():\r\n",
        "  def __init__(self, dataset_path=\"/content/drive/My Drive/CMAPSSData\"):\r\n",
        "    self._dataset_path = dataset_path\r\n",
        "    \r\n",
        "    # the files did not contain headers. Here we create labels based on documentation\r\n",
        "    index_columns_names =  [\"UnitNumber\",\"Cycle\"]\r\n",
        "    op_settings_columns = [\"Op_Setting_\"+str(i) for i in range(1,4)]\r\n",
        "    sensor_columns =[\"Sensor_\"+str(i) for i in range(1,22)]\r\n",
        "    self.column_names = index_columns_names + op_settings_columns + sensor_columns\r\n",
        "    self.target_name = 'Target_RUL'\r\n",
        "    self.label_name = 'Label'\r\n",
        "    self.train = DataSet()\r\n",
        "    self.test = DataSet()\r\n",
        "\r\n",
        "\r\n",
        "  def load(self, data_id=1):\r\n",
        "    '''\r\n",
        "    やってること：\r\n",
        "    train, test, rul.txt の読み込み\r\n",
        "    Noneの値を落とす\r\n",
        "    カラムの名前付け\r\n",
        "    '''\r\n",
        "\r\n",
        "    self._train_name = 'train_FD00{}.txt'.format(data_id)\r\n",
        "    self._test_name = 'test_FD00{}.txt'.format(data_id)\r\n",
        "    self._test_rul_name = 'RUL_FD00{}.txt'.format(data_id)\r\n",
        "    self.raw_train = pd.read_csv(os.path.join(self._dataset_path, self._train_name), sep=\" \", header=None)\r\n",
        "    self.raw_test = pd.read_csv(os.path.join(self._dataset_path, self._test_name), sep=\" \", header=None)\r\n",
        "    self.raw_rul_test = pd.read_csv(os.path.join(self._dataset_path, self._test_rul_name), header=None)\r\n",
        "    \r\n",
        "    # drop pesky NULL columns\r\n",
        "    self.raw_train.drop(self.raw_train.columns[[26, 27]], axis=1, inplace=True)\r\n",
        "    self.raw_test.drop(self.raw_test.columns[[26, 27]], axis=1, inplace=True)\r\n",
        "\r\n",
        "    # set name columns\r\n",
        "    self.raw_train.columns = self.column_names\r\n",
        "    self.raw_test.columns = self.column_names\r\n",
        "    \r\n",
        "  def CreateRUL(self):\r\n",
        "      '''\r\n",
        "      Train：CycleのデータからRULをせいせい\r\n",
        "      Test:Cycleのデータとrul.txtの値からRULを生成\r\n",
        "      rul.txtはTestUnitのサイクルが終了した時点でのRULの値を示している。\r\n",
        "      '''\r\n",
        "      # Train\r\n",
        "      max_cycle = self.raw_train.groupby('UnitNumber')['Cycle'].max().reset_index()\r\n",
        "      max_cycle.columns = ['UnitNumber', 'MaxOfCycle']\r\n",
        "      \r\n",
        "      # merge the max cycle back into the original frame\r\n",
        "      raw_train_merged = self.raw_train.merge(max_cycle, on='UnitNumber', how='inner')\r\n",
        "      \r\n",
        "      # calculate RUL for each row\r\n",
        "      Target_Remaining_Useful_Life = raw_train_merged[\"MaxOfCycle\"] - raw_train_merged[\"Cycle\"]\r\n",
        "      \r\n",
        "      # set DataSet instance\r\n",
        "      self.train.X = raw_train_merged.drop(\"MaxOfCycle\", axis=1)\r\n",
        "      self.train.t = pd.Series(Target_Remaining_Useful_Life, name=self.target_name)\r\n",
        "\r\n",
        "      #Test\r\n",
        "      self.raw_rul_test['UnitNumber'] = self.raw_rul_test.index+1\r\n",
        "      self.raw_rul_test.rename(columns={0:\"ActualRUL\"}, inplace=True)\r\n",
        "      max_cycle = self.raw_test.groupby('UnitNumber')['Cycle'].max().reset_index()\r\n",
        "      max_cycle.columns = ['UnitNumber', 'MaxOfCycle']\r\n",
        "\r\n",
        "      self.raw_rul_test[\"MaxRUL\"] = self.raw_rul_test['ActualRUL']+max_cycle[\"MaxOfCycle\"]\r\n",
        "      self.raw_rul_test.drop(\"ActualRUL\", axis=1, inplace=True)\r\n",
        "      raw_test_merged = self.raw_test.merge(self.raw_rul_test,on='UnitNumber',how='left')\r\n",
        "      Target_Remaining_Useful_Life = raw_test_merged['MaxRUL']-raw_test_merged['Cycle']\r\n",
        "      \r\n",
        "      # set DataSet instance\r\n",
        "      self.test.X = raw_test_merged.drop(\"MaxRUL\", axis=1)\r\n",
        "      self.test.t = pd.Series(Target_Remaining_Useful_Life, name = self.target_name)\r\n",
        "  \r\n",
        "  def InsertFailure(self, x, target_alarm):\r\n",
        "      last = x.index[-1]\r\n",
        "      x.iloc[-target_alarm:] = 1\r\n",
        "      return x\r\n",
        "  \r\n",
        "  def CreateLabel(self, target_alarm):\r\n",
        "      '''\r\n",
        "      Cycleの値からLabelの生成\r\n",
        "      '''\r\n",
        "      all_data = self.raw_train\r\n",
        "      all_data['Label'] = 0\r\n",
        "      all_data['Label'] = all_data.groupby('UnitNumber')['Label'].transform(self.InsertFailure, target_alarm=target_alarm)\r\n",
        "\r\n",
        "      #split test data\r\n",
        "      random.seed(1234)\r\n",
        "      idx = random.sample(range(1, 101), 20)\r\n",
        "      rest_idx = [i for i in range(1, 101) if i not in idx]\r\n",
        "      test = all_data[all_data['UnitNumber'].isin(idx)]\r\n",
        "      train = all_data[all_data['UnitNumber'].isin(rest_idx)]\r\n",
        "\r\n",
        "      # Dataset instance \r\n",
        "      self.train.X = train.iloc[:, :-1]\r\n",
        "      self.train.t = train.iloc[:, -1]\r\n",
        "\r\n",
        "      self.test.X = test.iloc[:, :-1]\r\n",
        "      self.test.t = test.iloc[:, -1]\r\n",
        "      return self.train\r\n",
        "\r\n",
        "  def DropConst(self):\r\n",
        "      '''\r\n",
        "      変化のないカラムとオプションを落とす\r\n",
        "      '''\r\n",
        "      leakage_to_drop = ['Cycle', 'Op_Setting_1', 'Op_Setting_2', 'Op_Setting_3']\r\n",
        "      leakage_to_drop += ['Sensor_'+str(i) for i in [1, 5, 6, 10, 16, 18, 19]]\r\n",
        "      self.train.X.drop(leakage_to_drop, axis = 1, inplace=True)\r\n",
        "      self.test.X.drop(leakage_to_drop, axis = 1, inplace=True)\r\n",
        "\r\n",
        "  def MinMaxNorm(self):\r\n",
        "      tmp = pd.concat([self.train.X.iloc[:, 1:], self.test.X.iloc[:, 1:]]).reset_index(drop=True)\r\n",
        "      train_size = len(self.train)\r\n",
        "      X_min, X_max = tmp.min(), tmp.max()\r\n",
        "      tmp = (tmp-X_min)/(X_max-X_min)\r\n",
        "      self.train.X.iloc[:, 1:] = tmp.iloc[:train_size, :]\r\n",
        "      self.test.X.iloc[:, 1:] = tmp.iloc[train_size:, :].reset_index(drop=True)\r\n",
        "\r\n",
        "  def LimitRUL(self, RUL_limit):\r\n",
        "    self.train.t = pd.Series(np.minimum(self.train.t, RUL_limit), name=self.target_name)\r\n",
        "    self.test.t = pd.Series(np.minimum(self.test.t, RUL_limit), name=self.target_name)\r\n",
        "\r\n",
        "  def SlideWindow(self, dataset, ws, cs=1, model='DAG'):\r\n",
        "    #X.size= (n-ws, cs, ws/cs, n_feautures)\r\n",
        "    combined_dataset = pd.concat([dataset.X, dataset.t], axis=1)\r\n",
        "    unit_max = combined_dataset['UnitNumber'].max()\r\n",
        "    width = ws//cs\r\n",
        "    X, y = [], []\r\n",
        "    if model == 'DAG':\r\n",
        "      for k in range(unit_max):\r\n",
        "        tmp_data = combined_dataset[combined_dataset['UnitNumber']==k+1].drop('UnitNumber', axis=1).values\r\n",
        "        n = len(tmp_data)\r\n",
        "        for i in range(n-ws):\r\n",
        "            X.append([tmp_data[i+(j)*width:i+(j+1)*width, :-1] for j in range(cs)])\r\n",
        "            y.append(tmp_data[i+ws, -1])\r\n",
        "    elif model == 'LSTM':\r\n",
        "      for k in range(unit_max):\r\n",
        "        tmp_data = combined_dataset[combined_dataset['UnitNumber']==k+1].drop('UnitNumber', axis=1).values\r\n",
        "        n = len(tmp_data)\r\n",
        "        for i in range(n-ws):\r\n",
        "            X.append(tmp_data[i:i+width, :-1])\r\n",
        "            y.append(tmp_data[i+ws, -1])\r\n",
        "    else: \r\n",
        "      print('Invalid Mode name')\r\n",
        "    dataset.X = torch.tensor(X).float()\r\n",
        "    dataset.t = torch.tensor(y).float()\r\n",
        "    return dataset\r\n",
        "\r\n",
        "  def GetRULDataset(self, ws, cs, batch_size, data_id=1, limit_flag = False, limit_value = None, model='DAG'):\r\n",
        "    self.load(data_id)\r\n",
        "    self.CreateRUL()\r\n",
        "    self.DropConst()\r\n",
        "    self.MinMaxNorm()\r\n",
        "\r\n",
        "    if limit_flag: \r\n",
        "      self.LimitRUL(limit_value)\r\n",
        "\r\n",
        "    self.train = self.SlideWindow(self.train, ws, cs, model)\r\n",
        "    self.test = self.SlideWindow(self.test, ws, cs, model)\r\n",
        "\r\n",
        "    train_dataloader = torch.utils.data.DataLoader(self.train, batch_size= batch_size)\r\n",
        "    test_dataloader = torch.utils.data.DataLoader(self.test, batch_size= 1)\r\n",
        "    return train_dataloader, test_dataloader\r\n",
        "\r\n",
        "  def GetLabelDataset(self, ws, cs, batch_size, data_id=1, target_alarm = 20, model='DAG'):\r\n",
        "    self.load(data_id)\r\n",
        "    self.CreateLabel(target_alarm)\r\n",
        "    self.DropConst()\r\n",
        "    self.MinMaxNorm()\r\n",
        "\r\n",
        "    self.train = self.SlideWindow(self.train, ws, cs, model)\r\n",
        "    self.test = self.SlideWindow(self.test, ws, cs, model)\r\n",
        "\r\n",
        "    train_dataloader = torch.utils.data.DataLoader(self.train, batch_size= batch_size)\r\n",
        "    test_dataloader = torch.utils.data.DataLoader(self.test, batch_size= 1)\r\n",
        "    return train_dataloader, test_dataloader"
      ],
      "execution_count": null,
      "outputs": []
    },
    {
      "cell_type": "code",
      "metadata": {
        "id": "e4HOZwiegItj"
      },
      "source": [
        "import pandas as pd"
      ],
      "execution_count": null,
      "outputs": []
    },
    {
      "cell_type": "code",
      "metadata": {
        "id": "371Je8OO7Biy"
      },
      "source": [
        "ws = 30\r\n",
        "cs = 10\r\n",
        "batch_size = 100\r\n",
        "fd = FD_Dataset()\r\n",
        "train_dataloader, test_dataloader = fd.GetRULDataset(ws, cs, batch_size)"
      ],
      "execution_count": null,
      "outputs": []
    },
    {
      "cell_type": "code",
      "metadata": {
        "id": "Xxa-gzw4mUnE"
      },
      "source": [
        "grouped = fd.raw_train.groupby('UnitNumber')"
      ],
      "execution_count": null,
      "outputs": []
    },
    {
      "cell_type": "code",
      "metadata": {
        "id": "AdVddF4CzBSe"
      },
      "source": [
        "ws = 30\r\n",
        "cs = 10\r\n",
        "batch_size = 100\r\n",
        "test_fd = FD_Dataset()\r\n",
        "test_fd.load()\r\n",
        "train_dataloader, test_dataloader = test_fd.GetLabelDataset(ws, cs, batch_size)"
      ],
      "execution_count": null,
      "outputs": []
    },
    {
      "cell_type": "code",
      "metadata": {
        "colab": {
          "base_uri": "https://localhost:8080/"
        },
        "id": "In8IfO4N3Pq6",
        "outputId": "c97183fd-c4cd-4b9a-9828-6db36bee107d"
      },
      "source": [
        "train['Label']"
      ],
      "execution_count": null,
      "outputs": [
        {
          "output_type": "execute_result",
          "data": {
            "text/plain": [
              "0        0\n",
              "1        0\n",
              "2        0\n",
              "3        0\n",
              "4        0\n",
              "        ..\n",
              "20626    0\n",
              "20627    0\n",
              "20628    0\n",
              "20629    0\n",
              "20630    0\n",
              "Name: Label, Length: 20631, dtype: int64"
            ]
          },
          "metadata": {
            "tags": []
          },
          "execution_count": 49
        }
      ]
    },
    {
      "cell_type": "code",
      "metadata": {
        "colab": {
          "base_uri": "https://localhost:8080/"
        },
        "id": "az4vOQ-E4v7A",
        "outputId": "2fb1eeaa-a39b-411f-dbd9-1438c2f1d392"
      },
      "source": [
        "a = {3, 4,5}\r\n",
        "print(random.sample(a, 2))\r\n",
        "idx = random.sample(range(1, 101), 20)"
      ],
      "execution_count": null,
      "outputs": [
        {
          "output_type": "stream",
          "text": [
            "[3, 5]\n"
          ],
          "name": "stdout"
        }
      ]
    },
    {
      "cell_type": "code",
      "metadata": {
        "colab": {
          "base_uri": "https://localhost:8080/"
        },
        "id": "SHlroKYNOPjZ",
        "outputId": "5d077427-cdac-404d-f6bb-7934ee7e707b"
      },
      "source": [
        "np.arange(30).reshape(3, 10)"
      ],
      "execution_count": null,
      "outputs": [
        {
          "output_type": "execute_result",
          "data": {
            "text/plain": [
              "array([[ 0,  1,  2,  3,  4,  5,  6,  7,  8,  9],\n",
              "       [10, 11, 12, 13, 14, 15, 16, 17, 18, 19],\n",
              "       [20, 21, 22, 23, 24, 25, 26, 27, 28, 29]])"
            ]
          },
          "metadata": {
            "tags": []
          },
          "execution_count": 70
        }
      ]
    },
    {
      "cell_type": "code",
      "metadata": {
        "id": "Exs_v7sYXxAs"
      },
      "source": [
        ""
      ],
      "execution_count": null,
      "outputs": []
    }
  ]
}